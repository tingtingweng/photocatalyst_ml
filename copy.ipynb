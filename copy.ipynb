{
 "cells": [
  {
   "cell_type": "code",
   "execution_count": 1,
   "id": "royal-despite",
   "metadata": {
    "scrolled": true
   },
   "outputs": [
    {
     "name": "stderr",
     "output_type": "stream",
     "text": [
      "Using TensorFlow backend.\n",
      "/opt/anaconda3/envs/my_chemml_env/lib/python3.6/site-packages/tensorflow/python/framework/dtypes.py:516: FutureWarning: Passing (type, 1) or '1type' as a synonym of type is deprecated; in a future version of numpy, it will be understood as (type, (1,)) / '(1,)type'.\n",
      "  _np_qint8 = np.dtype([(\"qint8\", np.int8, 1)])\n",
      "/opt/anaconda3/envs/my_chemml_env/lib/python3.6/site-packages/tensorflow/python/framework/dtypes.py:517: FutureWarning: Passing (type, 1) or '1type' as a synonym of type is deprecated; in a future version of numpy, it will be understood as (type, (1,)) / '(1,)type'.\n",
      "  _np_quint8 = np.dtype([(\"quint8\", np.uint8, 1)])\n",
      "/opt/anaconda3/envs/my_chemml_env/lib/python3.6/site-packages/tensorflow/python/framework/dtypes.py:518: FutureWarning: Passing (type, 1) or '1type' as a synonym of type is deprecated; in a future version of numpy, it will be understood as (type, (1,)) / '(1,)type'.\n",
      "  _np_qint16 = np.dtype([(\"qint16\", np.int16, 1)])\n",
      "/opt/anaconda3/envs/my_chemml_env/lib/python3.6/site-packages/tensorflow/python/framework/dtypes.py:519: FutureWarning: Passing (type, 1) or '1type' as a synonym of type is deprecated; in a future version of numpy, it will be understood as (type, (1,)) / '(1,)type'.\n",
      "  _np_quint16 = np.dtype([(\"quint16\", np.uint16, 1)])\n",
      "/opt/anaconda3/envs/my_chemml_env/lib/python3.6/site-packages/tensorflow/python/framework/dtypes.py:520: FutureWarning: Passing (type, 1) or '1type' as a synonym of type is deprecated; in a future version of numpy, it will be understood as (type, (1,)) / '(1,)type'.\n",
      "  _np_qint32 = np.dtype([(\"qint32\", np.int32, 1)])\n",
      "/opt/anaconda3/envs/my_chemml_env/lib/python3.6/site-packages/tensorflow/python/framework/dtypes.py:525: FutureWarning: Passing (type, 1) or '1type' as a synonym of type is deprecated; in a future version of numpy, it will be understood as (type, (1,)) / '(1,)type'.\n",
      "  np_resource = np.dtype([(\"resource\", np.ubyte, 1)])\n",
      "/opt/anaconda3/envs/my_chemml_env/lib/python3.6/site-packages/tensorboard/compat/tensorflow_stub/dtypes.py:541: FutureWarning: Passing (type, 1) or '1type' as a synonym of type is deprecated; in a future version of numpy, it will be understood as (type, (1,)) / '(1,)type'.\n",
      "  _np_qint8 = np.dtype([(\"qint8\", np.int8, 1)])\n",
      "/opt/anaconda3/envs/my_chemml_env/lib/python3.6/site-packages/tensorboard/compat/tensorflow_stub/dtypes.py:542: FutureWarning: Passing (type, 1) or '1type' as a synonym of type is deprecated; in a future version of numpy, it will be understood as (type, (1,)) / '(1,)type'.\n",
      "  _np_quint8 = np.dtype([(\"quint8\", np.uint8, 1)])\n",
      "/opt/anaconda3/envs/my_chemml_env/lib/python3.6/site-packages/tensorboard/compat/tensorflow_stub/dtypes.py:543: FutureWarning: Passing (type, 1) or '1type' as a synonym of type is deprecated; in a future version of numpy, it will be understood as (type, (1,)) / '(1,)type'.\n",
      "  _np_qint16 = np.dtype([(\"qint16\", np.int16, 1)])\n",
      "/opt/anaconda3/envs/my_chemml_env/lib/python3.6/site-packages/tensorboard/compat/tensorflow_stub/dtypes.py:544: FutureWarning: Passing (type, 1) or '1type' as a synonym of type is deprecated; in a future version of numpy, it will be understood as (type, (1,)) / '(1,)type'.\n",
      "  _np_quint16 = np.dtype([(\"quint16\", np.uint16, 1)])\n",
      "/opt/anaconda3/envs/my_chemml_env/lib/python3.6/site-packages/tensorboard/compat/tensorflow_stub/dtypes.py:545: FutureWarning: Passing (type, 1) or '1type' as a synonym of type is deprecated; in a future version of numpy, it will be understood as (type, (1,)) / '(1,)type'.\n",
      "  _np_qint32 = np.dtype([(\"qint32\", np.int32, 1)])\n",
      "/opt/anaconda3/envs/my_chemml_env/lib/python3.6/site-packages/tensorboard/compat/tensorflow_stub/dtypes.py:550: FutureWarning: Passing (type, 1) or '1type' as a synonym of type is deprecated; in a future version of numpy, it will be understood as (type, (1,)) / '(1,)type'.\n",
      "  np_resource = np.dtype([(\"resource\", np.ubyte, 1)])\n"
     ]
    }
   ],
   "source": [
    "from chemml.chem import Molecule"
   ]
  },
  {
   "cell_type": "code",
   "execution_count": 8,
   "id": "private-poverty",
   "metadata": {},
   "outputs": [
    {
     "name": "stdout",
     "output_type": "stream",
     "text": [
      "Collecting openbabel\n",
      "  Using cached openbabel-3.1.1.1.tar.gz (82 kB)\n",
      "Building wheels for collected packages: openbabel\n",
      "\u001b[33m  WARNING: Building wheel for openbabel failed: [Errno 13] Permission denied: '/Users/tingtingweng/Library/Caches/pip/wheels/44'\u001b[0m\n",
      "Failed to build openbabel\n",
      "Installing collected packages: openbabel\n",
      "    Running setup.py install for openbabel ... \u001b[?25lerror\n",
      "\u001b[31m    ERROR: Command errored out with exit status 1:\n",
      "     command: /opt/anaconda3/envs/my_chemml_env/bin/python -u -c 'import sys, setuptools, tokenize; sys.argv[0] = '\"'\"'/private/var/folders/yt/tvtwgxl15hdfl1m9c3dvf9jc0000gn/T/pip-install-v2gm4v37/openbabel_8f316a01e8434c1ab5abeaf892373929/setup.py'\"'\"'; __file__='\"'\"'/private/var/folders/yt/tvtwgxl15hdfl1m9c3dvf9jc0000gn/T/pip-install-v2gm4v37/openbabel_8f316a01e8434c1ab5abeaf892373929/setup.py'\"'\"';f=getattr(tokenize, '\"'\"'open'\"'\"', open)(__file__);code=f.read().replace('\"'\"'\\r\\n'\"'\"', '\"'\"'\\n'\"'\"');f.close();exec(compile(code, __file__, '\"'\"'exec'\"'\"'))' install --record /private/var/folders/yt/tvtwgxl15hdfl1m9c3dvf9jc0000gn/T/pip-record-fbu09svx/install-record.txt --single-version-externally-managed --compile --install-headers /opt/anaconda3/envs/my_chemml_env/include/python3.6m/openbabel\n",
      "         cwd: /private/var/folders/yt/tvtwgxl15hdfl1m9c3dvf9jc0000gn/T/pip-install-v2gm4v37/openbabel_8f316a01e8434c1ab5abeaf892373929/\n",
      "    Complete output (15 lines):\n",
      "    running install\n",
      "    running build_ext\n",
      "    Warning: invalid version number '3.1.1.1'.\n",
      "    Guessing Open Babel location:\n",
      "    - include_dirs: ['/opt/anaconda3/envs/my_chemml_env/include/python3.6m', '/usr/local/include/openbabel3']\n",
      "    - library_dirs: ['/usr/local/lib']\n",
      "    building 'openbabel._openbabel' extension\n",
      "    swigging openbabel/openbabel-python.i to openbabel/openbabel-python_wrap.cpp\n",
      "    swig -python -c++ -small -O -templatereduce -naturalvar -I/opt/anaconda3/envs/my_chemml_env/include/python3.6m -I/usr/local/include/openbabel3 -o openbabel/openbabel-python_wrap.cpp openbabel/openbabel-python.i\n",
      "    unable to execute 'swig': No such file or directory\n",
      "    \n",
      "    Error: SWIG failed. Is Open Babel installed?\n",
      "    You may need to manually specify the location of Open Babel include and library directories. For example:\n",
      "      python setup.py build_ext -I/usr/local/include/openbabel3 -L/usr/local/lib\n",
      "      python setup.py install\n",
      "    ----------------------------------------\u001b[0m\n",
      "\u001b[31mERROR: Command errored out with exit status 1: /opt/anaconda3/envs/my_chemml_env/bin/python -u -c 'import sys, setuptools, tokenize; sys.argv[0] = '\"'\"'/private/var/folders/yt/tvtwgxl15hdfl1m9c3dvf9jc0000gn/T/pip-install-v2gm4v37/openbabel_8f316a01e8434c1ab5abeaf892373929/setup.py'\"'\"'; __file__='\"'\"'/private/var/folders/yt/tvtwgxl15hdfl1m9c3dvf9jc0000gn/T/pip-install-v2gm4v37/openbabel_8f316a01e8434c1ab5abeaf892373929/setup.py'\"'\"';f=getattr(tokenize, '\"'\"'open'\"'\"', open)(__file__);code=f.read().replace('\"'\"'\\r\\n'\"'\"', '\"'\"'\\n'\"'\"');f.close();exec(compile(code, __file__, '\"'\"'exec'\"'\"'))' install --record /private/var/folders/yt/tvtwgxl15hdfl1m9c3dvf9jc0000gn/T/pip-record-fbu09svx/install-record.txt --single-version-externally-managed --compile --install-headers /opt/anaconda3/envs/my_chemml_env/include/python3.6m/openbabel Check the logs for full command output.\u001b[0m\n",
      "\u001b[?25hNote: you may need to restart the kernel to use updated packages.\n"
     ]
    }
   ],
   "source": [
    "pip install openbabel"
   ]
  },
  {
   "cell_type": "code",
   "execution_count": 7,
   "id": "portuguese-equality",
   "metadata": {},
   "outputs": [
    {
     "ename": "ImportError",
     "evalue": "cannot import name 'pybel'",
     "output_type": "error",
     "traceback": [
      "\u001b[0;31m---------------------------------------------------------------------------\u001b[0m",
      "\u001b[0;31mImportError\u001b[0m                               Traceback (most recent call last)",
      "\u001b[0;32m<ipython-input-7-f038e303b47c>\u001b[0m in \u001b[0;36m<module>\u001b[0;34m\u001b[0m\n\u001b[0;32m----> 1\u001b[0;31m \u001b[0;32mfrom\u001b[0m \u001b[0mopenbabel\u001b[0m \u001b[0;32mimport\u001b[0m \u001b[0mpybel\u001b[0m\u001b[0;34m\u001b[0m\u001b[0;34m\u001b[0m\u001b[0m\n\u001b[0m",
      "\u001b[0;31mImportError\u001b[0m: cannot import name 'pybel'"
     ]
    }
   ],
   "source": [
    "from openbabel import pybel"
   ]
  },
  {
   "cell_type": "code",
   "execution_count": 4,
   "id": "infrared-stage",
   "metadata": {},
   "outputs": [
    {
     "ename": "AttributeError",
     "evalue": "module 'pybel' has no attribute 'readfile'",
     "output_type": "error",
     "traceback": [
      "\u001b[0;31m---------------------------------------------------------------------------\u001b[0m",
      "\u001b[0;31mAttributeError\u001b[0m                            Traceback (most recent call last)",
      "\u001b[0;32m<ipython-input-4-714640f7b2c6>\u001b[0m in \u001b[0;36m<module>\u001b[0;34m\u001b[0m\n\u001b[1;32m      1\u001b[0m \u001b[0mxyz_name\u001b[0m \u001b[0;34m=\u001b[0m \u001b[0;34m'IrCNNN1_s.xyz'\u001b[0m\u001b[0;34m\u001b[0m\u001b[0;34m\u001b[0m\u001b[0m\n\u001b[0;32m----> 2\u001b[0;31m \u001b[0mmol\u001b[0m \u001b[0;34m=\u001b[0m \u001b[0mMolecule\u001b[0m\u001b[0;34m(\u001b[0m\u001b[0;34m'test1.xyz'\u001b[0m\u001b[0;34m,\u001b[0m\u001b[0;34m'xyz'\u001b[0m\u001b[0;34m)\u001b[0m\u001b[0;34m\u001b[0m\u001b[0;34m\u001b[0m\u001b[0m\n\u001b[0m\u001b[1;32m      3\u001b[0m \u001b[0mmol\u001b[0m\u001b[0;34m\u001b[0m\u001b[0;34m\u001b[0m\u001b[0m\n",
      "\u001b[0;32m/opt/anaconda3/envs/my_chemml_env/lib/python3.6/site-packages/chemml/chem/molecule.py\u001b[0m in \u001b[0;36m__init__\u001b[0;34m(self, input, input_type, **kwargs)\u001b[0m\n\u001b[1;32m    275\u001b[0m         \u001b[0mself\u001b[0m\u001b[0;34m.\u001b[0m\u001b[0m_init_attributes\u001b[0m\u001b[0;34m(\u001b[0m\u001b[0;34m)\u001b[0m\u001b[0;34m\u001b[0m\u001b[0;34m\u001b[0m\u001b[0m\n\u001b[1;32m    276\u001b[0m         \u001b[0mself\u001b[0m\u001b[0;34m.\u001b[0m\u001b[0m_extra_docs\u001b[0m\u001b[0;34m(\u001b[0m\u001b[0;34m)\u001b[0m\u001b[0;34m\u001b[0m\u001b[0;34m\u001b[0m\u001b[0m\n\u001b[0;32m--> 277\u001b[0;31m         \u001b[0mself\u001b[0m\u001b[0;34m.\u001b[0m\u001b[0m_load\u001b[0m\u001b[0;34m(\u001b[0m\u001b[0minput\u001b[0m\u001b[0;34m,\u001b[0m \u001b[0minput_type\u001b[0m\u001b[0;34m,\u001b[0m \u001b[0;34m**\u001b[0m\u001b[0mkwargs\u001b[0m\u001b[0;34m)\u001b[0m\u001b[0;34m\u001b[0m\u001b[0;34m\u001b[0m\u001b[0m\n\u001b[0m\u001b[1;32m    278\u001b[0m \u001b[0;34m\u001b[0m\u001b[0m\n\u001b[1;32m    279\u001b[0m     \u001b[0;32mdef\u001b[0m \u001b[0m__repr__\u001b[0m\u001b[0;34m(\u001b[0m\u001b[0mself\u001b[0m\u001b[0;34m)\u001b[0m\u001b[0;34m:\u001b[0m\u001b[0;34m\u001b[0m\u001b[0;34m\u001b[0m\u001b[0m\n",
      "\u001b[0;32m/opt/anaconda3/envs/my_chemml_env/lib/python3.6/site-packages/chemml/chem/molecule.py\u001b[0m in \u001b[0;36m_load\u001b[0;34m(self, input, input_type, **kwargs)\u001b[0m\n\u001b[1;32m    422\u001b[0m         \"\"\"\n\u001b[1;32m    423\u001b[0m         \u001b[0;32mif\u001b[0m \u001b[0minput_type\u001b[0m \u001b[0;34m==\u001b[0m \u001b[0;34m'xyz'\u001b[0m\u001b[0;34m:\u001b[0m\u001b[0;34m\u001b[0m\u001b[0;34m\u001b[0m\u001b[0m\n\u001b[0;32m--> 424\u001b[0;31m             \u001b[0mself\u001b[0m\u001b[0;34m.\u001b[0m\u001b[0m_load_pybel\u001b[0m\u001b[0;34m(\u001b[0m\u001b[0minput\u001b[0m\u001b[0;34m,\u001b[0m \u001b[0minput_type\u001b[0m\u001b[0;34m,\u001b[0m \u001b[0;34m**\u001b[0m\u001b[0mkwargs\u001b[0m\u001b[0;34m)\u001b[0m\u001b[0;34m\u001b[0m\u001b[0;34m\u001b[0m\u001b[0m\n\u001b[0m\u001b[1;32m    425\u001b[0m         \u001b[0;32melif\u001b[0m \u001b[0minput_type\u001b[0m \u001b[0;32min\u001b[0m \u001b[0;34m[\u001b[0m\u001b[0;34m'smiles'\u001b[0m\u001b[0;34m,\u001b[0m \u001b[0;34m'smarts'\u001b[0m\u001b[0;34m,\u001b[0m \u001b[0;34m'inchi'\u001b[0m\u001b[0;34m]\u001b[0m\u001b[0;34m:\u001b[0m\u001b[0;34m\u001b[0m\u001b[0;34m\u001b[0m\u001b[0m\n\u001b[1;32m    426\u001b[0m             \u001b[0mself\u001b[0m\u001b[0;34m.\u001b[0m\u001b[0m_load_rdkit\u001b[0m\u001b[0;34m(\u001b[0m\u001b[0minput\u001b[0m\u001b[0;34m,\u001b[0m \u001b[0minput_type\u001b[0m\u001b[0;34m,\u001b[0m \u001b[0;34m**\u001b[0m\u001b[0mkwargs\u001b[0m\u001b[0;34m)\u001b[0m\u001b[0;34m\u001b[0m\u001b[0;34m\u001b[0m\u001b[0m\n",
      "\u001b[0;32m/opt/anaconda3/envs/my_chemml_env/lib/python3.6/site-packages/chemml/chem/molecule.py\u001b[0m in \u001b[0;36m_load_pybel\u001b[0;34m(self, input, input_type, **kwargs)\u001b[0m\n\u001b[1;32m    486\u001b[0m             \u001b[0;32mif\u001b[0m \u001b[0mos\u001b[0m\u001b[0;34m.\u001b[0m\u001b[0mpath\u001b[0m\u001b[0;34m.\u001b[0m\u001b[0misfile\u001b[0m\u001b[0;34m(\u001b[0m\u001b[0minput\u001b[0m\u001b[0;34m)\u001b[0m\u001b[0;34m:\u001b[0m\u001b[0;34m\u001b[0m\u001b[0;34m\u001b[0m\u001b[0m\n\u001b[1;32m    487\u001b[0m                 \u001b[0mcreator\u001b[0m \u001b[0;34m=\u001b[0m \u001b[0;34m(\u001b[0m\u001b[0;34m'XYZ'\u001b[0m\u001b[0;34m,\u001b[0m \u001b[0minput\u001b[0m\u001b[0;34m)\u001b[0m\u001b[0;34m\u001b[0m\u001b[0;34m\u001b[0m\u001b[0m\n\u001b[0;32m--> 488\u001b[0;31m                 \u001b[0mgen\u001b[0m \u001b[0;34m=\u001b[0m \u001b[0mpybel\u001b[0m\u001b[0;34m.\u001b[0m\u001b[0mreadfile\u001b[0m\u001b[0;34m(\u001b[0m\u001b[0;34m\"xyz\"\u001b[0m\u001b[0;34m,\u001b[0m \u001b[0minput\u001b[0m\u001b[0;34m)\u001b[0m\u001b[0;34m\u001b[0m\u001b[0;34m\u001b[0m\u001b[0m\n\u001b[0m\u001b[1;32m    489\u001b[0m                 \u001b[0mmols\u001b[0m \u001b[0;34m=\u001b[0m \u001b[0mlist\u001b[0m\u001b[0;34m(\u001b[0m\u001b[0mgen\u001b[0m\u001b[0;34m)\u001b[0m\u001b[0;34m\u001b[0m\u001b[0;34m\u001b[0m\u001b[0m\n\u001b[1;32m    490\u001b[0m                 \u001b[0;32mif\u001b[0m \u001b[0mlen\u001b[0m\u001b[0;34m(\u001b[0m\u001b[0mmols\u001b[0m\u001b[0;34m)\u001b[0m \u001b[0;34m==\u001b[0m \u001b[0;36m1\u001b[0m\u001b[0;34m:\u001b[0m\u001b[0;34m\u001b[0m\u001b[0;34m\u001b[0m\u001b[0m\n",
      "\u001b[0;31mAttributeError\u001b[0m: module 'pybel' has no attribute 'readfile'"
     ]
    }
   ],
   "source": [
    "xyz_name = 'IrCNNN1_s.xyz'\n",
    "mol = Molecule('test1.xyz','xyz')\n",
    "mol"
   ]
  },
  {
   "cell_type": "code",
   "execution_count": 3,
   "id": "restricted-nomination",
   "metadata": {},
   "outputs": [
    {
     "data": {
      "text/plain": [
       "<chemml.chem.Molecule(\n",
       "        rdkit_molecule : <rdkit.Chem.rdchem.Mol object at 0x154f067b0>,\n",
       "        pybel_molecule : None,\n",
       "        creator        : ('SMILES', 'c1cc[c]2c(c1)-c1sc3ccccc3n1->[Ir+3]213(<-n2ccccc2-c2ccccn->12)<-n1c(sc2ccccc21)-c1cccc[c]13'),\n",
       "        smiles         : 'c1ccc2c(c1)-c1sc3ccccc3n1->[Ir+3]213(<-n2ccccc2-c2ccccn->12)<-n1c(sc2ccccc21)-c1ccccc13',\n",
       "        smarts         : None,\n",
       "        inchi          : None,\n",
       "        xyz            : None)>"
      ]
     },
     "execution_count": 3,
     "metadata": {},
     "output_type": "execute_result"
    }
   ],
   "source": [
    "Ir_smiles = 'c1cc[c]2c(c1)-c1sc3ccccc3n1->[Ir+3]213(<-n2ccccc2-c2ccccn->12)<-n1c(sc2ccccc21)-c1cccc[c]13'\n",
    "mol = Molecule(Ir_smiles, input_type='smiles')\n",
    "mol"
   ]
  },
  {
   "cell_type": "code",
   "execution_count": 9,
   "id": "purple-leisure",
   "metadata": {
    "scrolled": true
   },
   "outputs": [
    {
     "name": "stderr",
     "output_type": "stream",
     "text": [
      "RDKit ERROR: [08:00:19] UFFTYPER: Unrecognized atom type: Ir6 (15)\n"
     ]
    },
    {
     "ename": "ValueError",
     "evalue": "The MMFF parameters are not available for all of the molecule's atoms.",
     "output_type": "error",
     "traceback": [
      "\u001b[0;31m---------------------------------------------------------------------------\u001b[0m",
      "\u001b[0;31mValueError\u001b[0m                                Traceback (most recent call last)",
      "\u001b[0;32m<ipython-input-9-ed97c5d9b61c>\u001b[0m in \u001b[0;36m<module>\u001b[0;34m\u001b[0m\n\u001b[1;32m      1\u001b[0m \u001b[0mmol\u001b[0m\u001b[0;34m.\u001b[0m\u001b[0mhydrogens\u001b[0m\u001b[0;34m(\u001b[0m\u001b[0;34m'add'\u001b[0m\u001b[0;34m)\u001b[0m\u001b[0;34m\u001b[0m\u001b[0;34m\u001b[0m\u001b[0m\n\u001b[0;32m----> 2\u001b[0;31m \u001b[0mmol\u001b[0m\u001b[0;34m.\u001b[0m\u001b[0mto_xyz\u001b[0m\u001b[0;34m(\u001b[0m\u001b[0moptimizer\u001b[0m\u001b[0;34m=\u001b[0m\u001b[0;34m'MMFF'\u001b[0m\u001b[0;34m,\u001b[0m \u001b[0mmmffVariant\u001b[0m\u001b[0;34m=\u001b[0m\u001b[0;34m'MMFF94s'\u001b[0m\u001b[0;34m,\u001b[0m \u001b[0mmaxIters\u001b[0m\u001b[0;34m=\u001b[0m\u001b[0;36m300\u001b[0m\u001b[0;34m)\u001b[0m \u001b[0;31m# 'UFF'\u001b[0m\u001b[0;34m\u001b[0m\u001b[0;34m\u001b[0m\u001b[0m\n\u001b[0m",
      "\u001b[0;32m/opt/anaconda3/envs/my_chemml_env/lib/python3.6/site-packages/chemml/chem/molecule.py\u001b[0m in \u001b[0;36mto_xyz\u001b[0;34m(self, optimizer, **kwargs)\u001b[0m\n\u001b[1;32m    687\u001b[0m                 \u001b[0mself\u001b[0m\u001b[0;34m.\u001b[0m\u001b[0m_to_xyz_rdkit\u001b[0m\u001b[0;34m(\u001b[0m\u001b[0moptimizer\u001b[0m\u001b[0;34m,\u001b[0m \u001b[0;34m**\u001b[0m\u001b[0mkwargs\u001b[0m\u001b[0;34m)\u001b[0m\u001b[0;34m\u001b[0m\u001b[0;34m\u001b[0m\u001b[0m\n\u001b[1;32m    688\u001b[0m         \u001b[0;32melif\u001b[0m \u001b[0mengine\u001b[0m \u001b[0;34m==\u001b[0m \u001b[0;34m'rdkit'\u001b[0m\u001b[0;34m:\u001b[0m\u001b[0;34m\u001b[0m\u001b[0;34m\u001b[0m\u001b[0m\n\u001b[0;32m--> 689\u001b[0;31m             \u001b[0mself\u001b[0m\u001b[0;34m.\u001b[0m\u001b[0m_to_xyz_rdkit\u001b[0m\u001b[0;34m(\u001b[0m\u001b[0moptimizer\u001b[0m\u001b[0;34m,\u001b[0m \u001b[0;34m**\u001b[0m\u001b[0mkwargs\u001b[0m\u001b[0;34m)\u001b[0m\u001b[0;34m\u001b[0m\u001b[0;34m\u001b[0m\u001b[0m\n\u001b[0m\u001b[1;32m    690\u001b[0m \u001b[0;34m\u001b[0m\u001b[0m\n\u001b[1;32m    691\u001b[0m     \u001b[0;32mdef\u001b[0m \u001b[0m_to_xyz_rdkit\u001b[0m\u001b[0;34m(\u001b[0m\u001b[0mself\u001b[0m\u001b[0;34m,\u001b[0m \u001b[0moptimizer\u001b[0m\u001b[0;34m,\u001b[0m \u001b[0;34m**\u001b[0m\u001b[0mkwargs\u001b[0m\u001b[0;34m)\u001b[0m\u001b[0;34m:\u001b[0m\u001b[0;34m\u001b[0m\u001b[0;34m\u001b[0m\u001b[0m\n",
      "\u001b[0;32m/opt/anaconda3/envs/my_chemml_env/lib/python3.6/site-packages/chemml/chem/molecule.py\u001b[0m in \u001b[0;36m_to_xyz_rdkit\u001b[0;34m(self, optimizer, **kwargs)\u001b[0m\n\u001b[1;32m    704\u001b[0m                 \u001b[0;32melse\u001b[0m\u001b[0;34m:\u001b[0m\u001b[0;34m\u001b[0m\u001b[0;34m\u001b[0m\u001b[0m\n\u001b[1;32m    705\u001b[0m                     \u001b[0mmsg\u001b[0m \u001b[0;34m=\u001b[0m \u001b[0;34m\"The MMFF parameters are not available for all of the molecule's atoms.\"\u001b[0m\u001b[0;34m\u001b[0m\u001b[0;34m\u001b[0m\u001b[0m\n\u001b[0;32m--> 706\u001b[0;31m                     \u001b[0;32mraise\u001b[0m \u001b[0mValueError\u001b[0m\u001b[0;34m(\u001b[0m\u001b[0mmsg\u001b[0m\u001b[0;34m)\u001b[0m\u001b[0;34m\u001b[0m\u001b[0;34m\u001b[0m\u001b[0m\n\u001b[0m\u001b[1;32m    707\u001b[0m             \u001b[0;32melif\u001b[0m \u001b[0moptimizer\u001b[0m \u001b[0;34m==\u001b[0m \u001b[0;34m'UFF'\u001b[0m\u001b[0;34m:\u001b[0m\u001b[0;34m\u001b[0m\u001b[0;34m\u001b[0m\u001b[0m\n\u001b[1;32m    708\u001b[0m                 \u001b[0;32mif\u001b[0m \u001b[0mAllChem\u001b[0m\u001b[0;34m.\u001b[0m\u001b[0mUFFHasAllMoleculeParams\u001b[0m\u001b[0;34m(\u001b[0m\u001b[0mself\u001b[0m\u001b[0;34m.\u001b[0m\u001b[0mrdkit_molecule\u001b[0m\u001b[0;34m)\u001b[0m\u001b[0;34m:\u001b[0m\u001b[0;34m\u001b[0m\u001b[0;34m\u001b[0m\u001b[0m\n",
      "\u001b[0;31mValueError\u001b[0m: The MMFF parameters are not available for all of the molecule's atoms."
     ]
    }
   ],
   "source": [
    "mol.hydrogens('add')\n",
    "mol.to_xyz(optimizer='MMFF', mmffVariant='MMFF94s', maxIters=300) # 'UFF'"
   ]
  },
  {
   "cell_type": "code",
   "execution_count": 10,
   "id": "fallen-couple",
   "metadata": {},
   "outputs": [],
   "source": [
    "mol.to_xyz()"
   ]
  },
  {
   "cell_type": "code",
   "execution_count": 11,
   "id": "actual-option",
   "metadata": {},
   "outputs": [
    {
     "data": {
      "image/png": "[encoded data removed]",
      "text/plain": [
       "<PIL.PngImagePlugin.PngImageFile image mode=RGB size=300x300 at 0x1512E0E10>"
      ]
     },
     "execution_count": 11,
     "metadata": {},
     "output_type": "execute_result"
    }
   ],
   "source": [
    "mol.visualize()"
   ]
  },
  {
   "cell_type": "code",
   "execution_count": 97,
   "id": "another-market",
   "metadata": {},
   "outputs": [
    {
     "data": {
      "text/plain": [
       "<chemml.chem.Molecule(\n",
       "        rdkit_molecule : <rdkit.Chem.rdchem.Mol object at 0x153f07710>,\n",
       "        pybel_molecule : None,\n",
       "        creator        : ('SMILES', 'Cc1ccc2n(->[Ir]34(<-n5cc(C)ccc5-c5cccc[c]53)(<-n3ccccc3-c3ccccn->43)[c]3ccccc3-2)c1'),\n",
       "        smiles         : 'Cc1ccc2n(->[Ir]34(<-n5cc(C)ccc5-c5ccccc53)(<-n3ccccc3-c3ccccn->43)c3ccccc3-2)c1',\n",
       "        smarts         : None,\n",
       "        inchi          : None,\n",
       "        xyz            : <XYZ(geometry: (67, 3), atomic_numbers: (67, 1), atomic_symbols: (67, 1))>)>"
      ]
     },
     "execution_count": 97,
     "metadata": {},
     "output_type": "execute_result"
    }
   ],
   "source": [
    "mol"
   ]
  },
  {
   "cell_type": "code",
   "execution_count": 4,
   "id": "eligible-certification",
   "metadata": {},
   "outputs": [],
   "source": [
    "os.chdir('ref_complex_xyz')"
   ]
  },
  {
   "cell_type": "code",
   "execution_count": 119,
   "id": "discrete-baltimore",
   "metadata": {},
   "outputs": [],
   "source": [
    "tot_num = len(mol.xyz.atomic_symbols)\n",
    "with open('test_IrCNNN.xyz','w') as f:\n",
    "    f.write('{}\\n'.format(tot_num))\n",
    "    f.write('IrCNNN\\n')\n",
    "    for i in range(tot_num):\n",
    "        f.write('{}  {} {} {}\\n'.format(mol.xyz.atomic_symbols[i][0], mol.xyz.geometry[i][0], mol.xyz.geometry[i][1], mol.xyz.geometry[i][2]))\n"
   ]
  },
  {
   "cell_type": "markdown",
   "id": "geographic-chain",
   "metadata": {},
   "source": [
    "## convert smiles to xyz"
   ]
  },
  {
   "cell_type": "code",
   "execution_count": 2,
   "id": "saved-selection",
   "metadata": {},
   "outputs": [],
   "source": [
    "def smiles2xyz(Ir_smiles, xyz_name):\n",
    "    mol = Molecule(Ir_smiles, input_type='smiles')\n",
    "    mol.hydrogens('add')\n",
    "    while True:\n",
    "        try:\n",
    "            mol.to_xyz(optimizer='MMFF', mmffVariant='MMFF94s', maxIters=300) # 'UFF'\n",
    "        except:\n",
    "            print(\"{} MMFF Error\".format(xyz_name))\n",
    "        try:    \n",
    "            mol.to_xyz()\n",
    "            break\n",
    "        except:\n",
    "            print(\"{} to_xyz Error\".format(xyz_name))\n",
    "        \n",
    "    tot_num = len(mol.xyz.atomic_symbols)\n",
    "    with open(xyz_name,'w') as f:\n",
    "        f.write('{}\\n'.format(tot_num))\n",
    "        f.write('IrCNNN\\n')\n",
    "        for i in range(tot_num):\n",
    "            f.write('{}  {} {} {}\\n'.format(mol.xyz.atomic_symbols[i][0], mol.xyz.geometry[i][0], mol.xyz.geometry[i][1], mol.xyz.geometry[i][2]))\n",
    "            \n",
    "    return 1\n"
   ]
  },
  {
   "cell_type": "code",
   "execution_count": 3,
   "id": "emotional-afghanistan",
   "metadata": {},
   "outputs": [
    {
     "data": {
      "text/html": [
       "<div>\n",
       "<style scoped>\n",
       "    .dataframe tbody tr th:only-of-type {\n",
       "        vertical-align: middle;\n",
       "    }\n",
       "\n",
       "    .dataframe tbody tr th {\n",
       "        vertical-align: top;\n",
       "    }\n",
       "\n",
       "    .dataframe thead th {\n",
       "        text-align: right;\n",
       "    }\n",
       "</style>\n",
       "<table border=\"1\" class=\"dataframe\">\n",
       "  <thead>\n",
       "    <tr style=\"text-align: right;\">\n",
       "      <th></th>\n",
       "      <th>Unnamed: 0</th>\n",
       "      <th>complex_i</th>\n",
       "      <th>CN_smiles</th>\n",
       "      <th>NN_smiles</th>\n",
       "      <th>complex_smiles</th>\n",
       "    </tr>\n",
       "  </thead>\n",
       "  <tbody>\n",
       "    <tr>\n",
       "      <th>0</th>\n",
       "      <td>0</td>\n",
       "      <td>1</td>\n",
       "      <td>FC1=CC(F)=C(C2=[15N]C=C(C(F)(F)F)C=C2)[13C]=C1</td>\n",
       "      <td>CC(C)(C)C1=CC=[15N]C(C2=[15N]C=CC(C(C)(C)C)=C2...</td>\n",
       "      <td>CC(C)(C)c1ccn2-&gt;[Ir+3]34(&lt;-n5cc(C(F)(F)F)ccc5-...</td>\n",
       "    </tr>\n",
       "    <tr>\n",
       "      <th>1</th>\n",
       "      <td>1</td>\n",
       "      <td>2</td>\n",
       "      <td>FC1=CC(F)=C(C2=[15N]C=CC(C(C)(C)C)=C2)[13C]=C1</td>\n",
       "      <td>CC(C)(C)C1=CC=[15N]C(C2=[15N]C=CC(C(C)(C)C)=C2...</td>\n",
       "      <td>CC(C)(C)c1ccn2-&gt;[Ir+3]34(&lt;-n5ccc(C(C)(C)C)cc5-...</td>\n",
       "    </tr>\n",
       "    <tr>\n",
       "      <th>2</th>\n",
       "      <td>2</td>\n",
       "      <td>3</td>\n",
       "      <td>FC1=CC(F)=C(C2=[15N]C=CC=C2)[13C]=C1</td>\n",
       "      <td>CC(C)(C)C1=CC=[15N]C(C2=[15N]C=CC(C(C)(C)C)=C2...</td>\n",
       "      <td>CC(C)(C)c1ccn2-&gt;[Ir+3]34(&lt;-n5ccccc5-c5c(F)cc(F...</td>\n",
       "    </tr>\n",
       "    <tr>\n",
       "      <th>3</th>\n",
       "      <td>3</td>\n",
       "      <td>4</td>\n",
       "      <td>C1(C2=[15N]C=CC=C2)=CC=CC=[13C]1</td>\n",
       "      <td>CC(C)(C)C1=CC=[15N]C(C2=[15N]C=CC(C(C)(C)C)=C2...</td>\n",
       "      <td>CC(C)(C)c1ccn2-&gt;[Ir+3]34(&lt;-n5ccccc5-c5cccc[c]5...</td>\n",
       "    </tr>\n",
       "    <tr>\n",
       "      <th>4</th>\n",
       "      <td>4</td>\n",
       "      <td>5</td>\n",
       "      <td>C1(C2=[15N]C=CC=C2)=CC=CC=[13C]1</td>\n",
       "      <td>COC1=CC=[15N]C(C2=[15N]C=CC(OC)=C2)=C1</td>\n",
       "      <td>COc1ccn2-&gt;[Ir+3]34(&lt;-n5ccccc5-c5cccc[c]53)(&lt;-n...</td>\n",
       "    </tr>\n",
       "    <tr>\n",
       "      <th>5</th>\n",
       "      <td>5</td>\n",
       "      <td>6</td>\n",
       "      <td>CC(C)(C)C1=CC=[13C]C(C2=[15N]C=CC(C(C)(C)C)=C2...</td>\n",
       "      <td>CC(C)(C)C1=CC=[15N]C(C2=[15N]C=CC(C(C)(C)C)=C2...</td>\n",
       "      <td>CC(C)(C)c1cc[c]2c(c1)-c1cc(C(C)(C)C)ccn1-&gt;[Ir+...</td>\n",
       "    </tr>\n",
       "    <tr>\n",
       "      <th>6</th>\n",
       "      <td>6</td>\n",
       "      <td>7</td>\n",
       "      <td>CC(C)(C)C1=CC=[13C]C(C2=[15N]C=CC(C(C)(C)C)=C2...</td>\n",
       "      <td>COC1=CC=[15N]C(C2=[15N]C=CC(OC)=C2)=C1</td>\n",
       "      <td>COc1ccn2-&gt;[Ir+3]34(&lt;-n5ccc(C(C)(C)C)cc5-c5cc(C...</td>\n",
       "    </tr>\n",
       "  </tbody>\n",
       "</table>\n",
       "</div>"
      ],
      "text/plain": [
       "   Unnamed: 0  complex_i                                          CN_smiles  \\\n",
       "0           0          1     FC1=CC(F)=C(C2=[15N]C=C(C(F)(F)F)C=C2)[13C]=C1   \n",
       "1           1          2     FC1=CC(F)=C(C2=[15N]C=CC(C(C)(C)C)=C2)[13C]=C1   \n",
       "2           2          3               FC1=CC(F)=C(C2=[15N]C=CC=C2)[13C]=C1   \n",
       "3           3          4                   C1(C2=[15N]C=CC=C2)=CC=CC=[13C]1   \n",
       "4           4          5                   C1(C2=[15N]C=CC=C2)=CC=CC=[13C]1   \n",
       "5           5          6  CC(C)(C)C1=CC=[13C]C(C2=[15N]C=CC(C(C)(C)C)=C2...   \n",
       "6           6          7  CC(C)(C)C1=CC=[13C]C(C2=[15N]C=CC(C(C)(C)C)=C2...   \n",
       "\n",
       "                                           NN_smiles  \\\n",
       "0  CC(C)(C)C1=CC=[15N]C(C2=[15N]C=CC(C(C)(C)C)=C2...   \n",
       "1  CC(C)(C)C1=CC=[15N]C(C2=[15N]C=CC(C(C)(C)C)=C2...   \n",
       "2  CC(C)(C)C1=CC=[15N]C(C2=[15N]C=CC(C(C)(C)C)=C2...   \n",
       "3  CC(C)(C)C1=CC=[15N]C(C2=[15N]C=CC(C(C)(C)C)=C2...   \n",
       "4             COC1=CC=[15N]C(C2=[15N]C=CC(OC)=C2)=C1   \n",
       "5  CC(C)(C)C1=CC=[15N]C(C2=[15N]C=CC(C(C)(C)C)=C2...   \n",
       "6             COC1=CC=[15N]C(C2=[15N]C=CC(OC)=C2)=C1   \n",
       "\n",
       "                                      complex_smiles  \n",
       "0  CC(C)(C)c1ccn2->[Ir+3]34(<-n5cc(C(F)(F)F)ccc5-...  \n",
       "1  CC(C)(C)c1ccn2->[Ir+3]34(<-n5ccc(C(C)(C)C)cc5-...  \n",
       "2  CC(C)(C)c1ccn2->[Ir+3]34(<-n5ccccc5-c5c(F)cc(F...  \n",
       "3  CC(C)(C)c1ccn2->[Ir+3]34(<-n5ccccc5-c5cccc[c]5...  \n",
       "4  COc1ccn2->[Ir+3]34(<-n5ccccc5-c5cccc[c]53)(<-n...  \n",
       "5  CC(C)(C)c1cc[c]2c(c1)-c1cc(C(C)(C)C)ccn1->[Ir+...  \n",
       "6  COc1ccn2->[Ir+3]34(<-n5ccc(C(C)(C)C)cc5-c5cc(C...  "
      ]
     },
     "execution_count": 3,
     "metadata": {},
     "output_type": "execute_result"
    }
   ],
   "source": [
    "import pandas as pd\n",
    "import os, sys\n",
    "\n",
    "cwd = os.getcwd()\n",
    "df = pd.read_csv(cwd+'/ref_smiles.csv')\n",
    "df"
   ]
  },
  {
   "cell_type": "code",
   "execution_count": 5,
   "id": "agricultural-postcard",
   "metadata": {},
   "outputs": [
    {
     "name": "stderr",
     "output_type": "stream",
     "text": [
      "RDKit ERROR: [08:31:07] UFFTYPER: Unrecognized atom type: Ir6 (8)\n"
     ]
    },
    {
     "name": "stdout",
     "output_type": "stream",
     "text": [
      "ref0.xyz MMFF Error\n",
      "ref0.xyz to_xyz Error\n"
     ]
    },
    {
     "name": "stderr",
     "output_type": "stream",
     "text": [
      "RDKit ERROR: [08:33:09] UFFTYPER: Unrecognized atom type: Ir6 (8)\n"
     ]
    },
    {
     "name": "stdout",
     "output_type": "stream",
     "text": [
      "ref0.xyz MMFF Error\n",
      "1\n"
     ]
    },
    {
     "name": "stderr",
     "output_type": "stream",
     "text": [
      "RDKit ERROR: [08:33:28] UFFTYPER: Unrecognized atom type: Ir6 (8)\n"
     ]
    },
    {
     "name": "stdout",
     "output_type": "stream",
     "text": [
      "ref1.xyz MMFF Error\n",
      "ref1.xyz to_xyz Error\n"
     ]
    },
    {
     "name": "stderr",
     "output_type": "stream",
     "text": [
      "RDKit ERROR: [08:35:38] UFFTYPER: Unrecognized atom type: Ir6 (8)\n"
     ]
    },
    {
     "name": "stdout",
     "output_type": "stream",
     "text": [
      "ref1.xyz MMFF Error\n",
      "1\n"
     ]
    },
    {
     "name": "stderr",
     "output_type": "stream",
     "text": [
      "RDKit ERROR: [08:35:48] UFFTYPER: Unrecognized atom type: Ir6 (8)\n"
     ]
    },
    {
     "name": "stdout",
     "output_type": "stream",
     "text": [
      "ref2.xyz MMFF Error\n",
      "1\n"
     ]
    },
    {
     "name": "stderr",
     "output_type": "stream",
     "text": [
      "RDKit ERROR: [08:36:33] UFFTYPER: Unrecognized atom type: Ir6 (8)\n"
     ]
    },
    {
     "name": "stdout",
     "output_type": "stream",
     "text": [
      "ref3.xyz MMFF Error\n",
      "1\n"
     ]
    },
    {
     "name": "stderr",
     "output_type": "stream",
     "text": [
      "RDKit ERROR: [08:36:56] UFFTYPER: Unrecognized atom type: Ir6 (6)\n"
     ]
    },
    {
     "name": "stdout",
     "output_type": "stream",
     "text": [
      "ref4.xyz MMFF Error\n",
      "1\n"
     ]
    },
    {
     "name": "stderr",
     "output_type": "stream",
     "text": [
      "RDKit ERROR: [08:37:04] UFFTYPER: Unrecognized atom type: Ir6 (20)\n"
     ]
    },
    {
     "name": "stdout",
     "output_type": "stream",
     "text": [
      "ref5.xyz MMFF Error\n",
      "ref5.xyz to_xyz Error\n"
     ]
    },
    {
     "name": "stderr",
     "output_type": "stream",
     "text": [
      "RDKit ERROR: [08:37:51] UFFTYPER: Unrecognized atom type: Ir6 (20)\n"
     ]
    },
    {
     "name": "stdout",
     "output_type": "stream",
     "text": [
      "ref5.xyz MMFF Error\n",
      "ref5.xyz to_xyz Error\n"
     ]
    },
    {
     "name": "stderr",
     "output_type": "stream",
     "text": [
      "RDKit ERROR: [08:38:33] UFFTYPER: Unrecognized atom type: Ir6 (20)\n"
     ]
    },
    {
     "name": "stdout",
     "output_type": "stream",
     "text": [
      "ref5.xyz MMFF Error\n",
      "1\n"
     ]
    },
    {
     "name": "stderr",
     "output_type": "stream",
     "text": [
      "RDKit ERROR: [08:38:53] UFFTYPER: Unrecognized atom type: Ir6 (6)\n"
     ]
    },
    {
     "name": "stdout",
     "output_type": "stream",
     "text": [
      "ref6.xyz MMFF Error\n",
      "1\n"
     ]
    }
   ],
   "source": [
    "for i in range(len(df)):\n",
    "    Ir_smiles = df['complex_smiles'][i]\n",
    "    xyz_name = 'ref'+str(i)+'.xyz'\n",
    "    status = smiles2xyz(Ir_smiles, xyz_name)\n",
    "    print(status)"
   ]
  },
  {
   "cell_type": "code",
   "execution_count": null,
   "id": "assigned-belarus",
   "metadata": {},
   "outputs": [],
   "source": []
  },
  {
   "cell_type": "code",
   "execution_count": null,
   "id": "stuck-letters",
   "metadata": {},
   "outputs": [],
   "source": []
  },
  {
   "cell_type": "code",
   "execution_count": null,
   "id": "periodic-belief",
   "metadata": {},
   "outputs": [],
   "source": []
  }
 ],
 "metadata": {
  "kernelspec": {
   "display_name": "Python [conda env:my_chemml_env] *",
   "language": "python",
   "name": "conda-env-my_chemml_env-py"
  },
  "language_info": {
   "codemirror_mode": {
    "name": "ipython",
    "version": 3
   },
   "file_extension": ".py",
   "mimetype": "text/x-python",
   "name": "python",
   "nbconvert_exporter": "python",
   "pygments_lexer": "ipython3",
   "version": "3.6.12"
  }
 },
 "nbformat": 4,
 "nbformat_minor": 5
}
