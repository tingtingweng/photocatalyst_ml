{
 "cells": [
  {
   "cell_type": "code",
   "execution_count": 1,
   "id": "royal-despite",
   "metadata": {
    "scrolled": true
   },
   "outputs": [
    {
     "name": "stderr",
     "output_type": "stream",
     "text": [
      "Using TensorFlow backend.\n",
      "/opt/anaconda3/envs/my_chemml_env/lib/python3.6/site-packages/tensorflow/python/framework/dtypes.py:516: FutureWarning: Passing (type, 1) or '1type' as a synonym of type is deprecated; in a future version of numpy, it will be understood as (type, (1,)) / '(1,)type'.\n",
      "  _np_qint8 = np.dtype([(\"qint8\", np.int8, 1)])\n",
      "/opt/anaconda3/envs/my_chemml_env/lib/python3.6/site-packages/tensorflow/python/framework/dtypes.py:517: FutureWarning: Passing (type, 1) or '1type' as a synonym of type is deprecated; in a future version of numpy, it will be understood as (type, (1,)) / '(1,)type'.\n",
      "  _np_quint8 = np.dtype([(\"quint8\", np.uint8, 1)])\n",
      "/opt/anaconda3/envs/my_chemml_env/lib/python3.6/site-packages/tensorflow/python/framework/dtypes.py:518: FutureWarning: Passing (type, 1) or '1type' as a synonym of type is deprecated; in a future version of numpy, it will be understood as (type, (1,)) / '(1,)type'.\n",
      "  _np_qint16 = np.dtype([(\"qint16\", np.int16, 1)])\n",
      "/opt/anaconda3/envs/my_chemml_env/lib/python3.6/site-packages/tensorflow/python/framework/dtypes.py:519: FutureWarning: Passing (type, 1) or '1type' as a synonym of type is deprecated; in a future version of numpy, it will be understood as (type, (1,)) / '(1,)type'.\n",
      "  _np_quint16 = np.dtype([(\"quint16\", np.uint16, 1)])\n",
      "/opt/anaconda3/envs/my_chemml_env/lib/python3.6/site-packages/tensorflow/python/framework/dtypes.py:520: FutureWarning: Passing (type, 1) or '1type' as a synonym of type is deprecated; in a future version of numpy, it will be understood as (type, (1,)) / '(1,)type'.\n",
      "  _np_qint32 = np.dtype([(\"qint32\", np.int32, 1)])\n",
      "/opt/anaconda3/envs/my_chemml_env/lib/python3.6/site-packages/tensorflow/python/framework/dtypes.py:525: FutureWarning: Passing (type, 1) or '1type' as a synonym of type is deprecated; in a future version of numpy, it will be understood as (type, (1,)) / '(1,)type'.\n",
      "  np_resource = np.dtype([(\"resource\", np.ubyte, 1)])\n",
      "/opt/anaconda3/envs/my_chemml_env/lib/python3.6/site-packages/tensorboard/compat/tensorflow_stub/dtypes.py:541: FutureWarning: Passing (type, 1) or '1type' as a synonym of type is deprecated; in a future version of numpy, it will be understood as (type, (1,)) / '(1,)type'.\n",
      "  _np_qint8 = np.dtype([(\"qint8\", np.int8, 1)])\n",
      "/opt/anaconda3/envs/my_chemml_env/lib/python3.6/site-packages/tensorboard/compat/tensorflow_stub/dtypes.py:542: FutureWarning: Passing (type, 1) or '1type' as a synonym of type is deprecated; in a future version of numpy, it will be understood as (type, (1,)) / '(1,)type'.\n",
      "  _np_quint8 = np.dtype([(\"quint8\", np.uint8, 1)])\n",
      "/opt/anaconda3/envs/my_chemml_env/lib/python3.6/site-packages/tensorboard/compat/tensorflow_stub/dtypes.py:543: FutureWarning: Passing (type, 1) or '1type' as a synonym of type is deprecated; in a future version of numpy, it will be understood as (type, (1,)) / '(1,)type'.\n",
      "  _np_qint16 = np.dtype([(\"qint16\", np.int16, 1)])\n",
      "/opt/anaconda3/envs/my_chemml_env/lib/python3.6/site-packages/tensorboard/compat/tensorflow_stub/dtypes.py:544: FutureWarning: Passing (type, 1) or '1type' as a synonym of type is deprecated; in a future version of numpy, it will be understood as (type, (1,)) / '(1,)type'.\n",
      "  _np_quint16 = np.dtype([(\"quint16\", np.uint16, 1)])\n",
      "/opt/anaconda3/envs/my_chemml_env/lib/python3.6/site-packages/tensorboard/compat/tensorflow_stub/dtypes.py:545: FutureWarning: Passing (type, 1) or '1type' as a synonym of type is deprecated; in a future version of numpy, it will be understood as (type, (1,)) / '(1,)type'.\n",
      "  _np_qint32 = np.dtype([(\"qint32\", np.int32, 1)])\n",
      "/opt/anaconda3/envs/my_chemml_env/lib/python3.6/site-packages/tensorboard/compat/tensorflow_stub/dtypes.py:550: FutureWarning: Passing (type, 1) or '1type' as a synonym of type is deprecated; in a future version of numpy, it will be understood as (type, (1,)) / '(1,)type'.\n",
      "  np_resource = np.dtype([(\"resource\", np.ubyte, 1)])\n"
     ]
    }
   ],
   "source": [
    "from chemml.chem import Molecule"
   ]
  },
  {
   "cell_type": "code",
   "execution_count": 4,
   "id": "comparable-eleven",
   "metadata": {},
   "outputs": [],
   "source": [
    "import openbabel"
   ]
  },
  {
   "cell_type": "code",
   "execution_count": 9,
   "id": "musical-mention",
   "metadata": {},
   "outputs": [
    {
     "name": "stdout",
     "output_type": "stream",
     "text": [
      "Collecting openbabel\n",
      "  Using cached openbabel-3.1.1.1.tar.gz (82 kB)\n",
      "Building wheels for collected packages: openbabel\n",
      "\u001b[33m  WARNING: Building wheel for openbabel failed: [Errno 13] Permission denied: '/Users/tingtingweng/Library/Caches/pip/wheels/44'\u001b[0m\n",
      "Failed to build openbabel\n",
      "Installing collected packages: openbabel\n",
      "    Running setup.py install for openbabel ... \u001b[?25lerror\n",
      "\u001b[31m    ERROR: Command errored out with exit status 1:\n",
      "     command: /opt/anaconda3/envs/my_chemml_env/bin/python -u -c 'import sys, setuptools, tokenize; sys.argv[0] = '\"'\"'/private/var/folders/yt/tvtwgxl15hdfl1m9c3dvf9jc0000gn/T/pip-install-eutspl9z/openbabel_00a22a909a8645caa3d78e776f045a27/setup.py'\"'\"'; __file__='\"'\"'/private/var/folders/yt/tvtwgxl15hdfl1m9c3dvf9jc0000gn/T/pip-install-eutspl9z/openbabel_00a22a909a8645caa3d78e776f045a27/setup.py'\"'\"';f=getattr(tokenize, '\"'\"'open'\"'\"', open)(__file__);code=f.read().replace('\"'\"'\\r\\n'\"'\"', '\"'\"'\\n'\"'\"');f.close();exec(compile(code, __file__, '\"'\"'exec'\"'\"'))' install --record /private/var/folders/yt/tvtwgxl15hdfl1m9c3dvf9jc0000gn/T/pip-record-ssb2f_k3/install-record.txt --single-version-externally-managed --compile --install-headers /opt/anaconda3/envs/my_chemml_env/include/python3.6m/openbabel\n",
      "         cwd: /private/var/folders/yt/tvtwgxl15hdfl1m9c3dvf9jc0000gn/T/pip-install-eutspl9z/openbabel_00a22a909a8645caa3d78e776f045a27/\n",
      "    Complete output (15 lines):\n",
      "    running install\n",
      "    running build_ext\n",
      "    Warning: invalid version number '3.1.1.1'.\n",
      "    Guessing Open Babel location:\n",
      "    - include_dirs: ['/opt/anaconda3/envs/my_chemml_env/include/python3.6m', '/usr/local/include/openbabel3']\n",
      "    - library_dirs: ['/usr/local/lib']\n",
      "    building 'openbabel._openbabel' extension\n",
      "    swigging openbabel/openbabel-python.i to openbabel/openbabel-python_wrap.cpp\n",
      "    swig -python -c++ -small -O -templatereduce -naturalvar -I/opt/anaconda3/envs/my_chemml_env/include/python3.6m -I/usr/local/include/openbabel3 -o openbabel/openbabel-python_wrap.cpp openbabel/openbabel-python.i\n",
      "    unable to execute 'swig': No such file or directory\n",
      "    \n",
      "    Error: SWIG failed. Is Open Babel installed?\n",
      "    You may need to manually specify the location of Open Babel include and library directories. For example:\n",
      "      python setup.py build_ext -I/usr/local/include/openbabel3 -L/usr/local/lib\n",
      "      python setup.py install\n",
      "    ----------------------------------------\u001b[0m\n",
      "\u001b[31mERROR: Command errored out with exit status 1: /opt/anaconda3/envs/my_chemml_env/bin/python -u -c 'import sys, setuptools, tokenize; sys.argv[0] = '\"'\"'/private/var/folders/yt/tvtwgxl15hdfl1m9c3dvf9jc0000gn/T/pip-install-eutspl9z/openbabel_00a22a909a8645caa3d78e776f045a27/setup.py'\"'\"'; __file__='\"'\"'/private/var/folders/yt/tvtwgxl15hdfl1m9c3dvf9jc0000gn/T/pip-install-eutspl9z/openbabel_00a22a909a8645caa3d78e776f045a27/setup.py'\"'\"';f=getattr(tokenize, '\"'\"'open'\"'\"', open)(__file__);code=f.read().replace('\"'\"'\\r\\n'\"'\"', '\"'\"'\\n'\"'\"');f.close();exec(compile(code, __file__, '\"'\"'exec'\"'\"'))' install --record /private/var/folders/yt/tvtwgxl15hdfl1m9c3dvf9jc0000gn/T/pip-record-ssb2f_k3/install-record.txt --single-version-externally-managed --compile --install-headers /opt/anaconda3/envs/my_chemml_env/include/python3.6m/openbabel Check the logs for full command output.\u001b[0m\n",
      "\u001b[?25hNote: you may need to restart the kernel to use updated packages.\n"
     ]
    }
   ],
   "source": [
    "pip install -U openbabel"
   ]
  },
  {
   "cell_type": "code",
   "execution_count": 2,
   "id": "second-contemporary",
   "metadata": {},
   "outputs": [
    {
     "data": {
      "text/plain": [
       "<chemml.chem.Molecule(\n",
       "        rdkit_molecule : <rdkit.Chem.rdchem.Mol object at 0x150f5a6c0>,\n",
       "        pybel_molecule : None,\n",
       "        creator        : ('SMILES', 'C1(C2=NC=CC=C2)=CC=CC=C1'),\n",
       "        smiles         : 'c1ccc(-c2ccccn2)cc1',\n",
       "        smarts         : None,\n",
       "        inchi          : None,\n",
       "        xyz            : None)>"
      ]
     },
     "execution_count": 2,
     "metadata": {},
     "output_type": "execute_result"
    }
   ],
   "source": [
    "cn_smiles = 'C1(C2=NC=CC=C2)=CC=CC=C1'\n",
    "mol = Molecule(cn_smiles, input_type='smiles')\n",
    "mol"
   ]
  },
  {
   "cell_type": "code",
   "execution_count": 3,
   "id": "secondary-seeking",
   "metadata": {},
   "outputs": [
    {
     "data": {
      "image/png": "[encoded data removed]",
      "text/plain": [
       "<PIL.PngImagePlugin.PngImageFile image mode=RGB size=300x300 at 0x150F50D68>"
      ]
     },
     "execution_count": 3,
     "metadata": {},
     "output_type": "execute_result"
    }
   ],
   "source": [
    "mol.visualize()"
   ]
  },
  {
   "cell_type": "code",
   "execution_count": 4,
   "id": "congressional-programming",
   "metadata": {},
   "outputs": [
    {
     "data": {
      "image/png": "[encoded data removed]",
      "text/plain": [
       "<PIL.PngImagePlugin.PngImageFile image mode=RGB size=300x300 at 0x1512E0908>"
      ]
     },
     "execution_count": 4,
     "metadata": {},
     "output_type": "execute_result"
    }
   ],
   "source": [
    "mol.hydrogens('add')\n",
    "mol.visualize()"
   ]
  },
  {
   "cell_type": "code",
   "execution_count": 5,
   "id": "accessible-effects",
   "metadata": {},
   "outputs": [
    {
     "data": {
      "text/plain": [
       "<chemml.chem.Molecule(\n",
       "        rdkit_molecule : <rdkit.Chem.rdchem.Mol object at 0x1512d5df0>,\n",
       "        pybel_molecule : None,\n",
       "        creator        : ('SMILES', 'C1(C2=NC=CC=C2)=CC=CC=C1'),\n",
       "        smiles         : 'c1ccc(-c2ccccn2)cc1',\n",
       "        smarts         : None,\n",
       "        inchi          : None,\n",
       "        xyz            : <XYZ(geometry: (21, 3), atomic_numbers: (21, 1), atomic_symbols: (21, 1))>)>"
      ]
     },
     "execution_count": 5,
     "metadata": {},
     "output_type": "execute_result"
    }
   ],
   "source": [
    "mol.to_xyz(optimizer='MMFF', mmffVariant='MMFF94s', maxIters=300)\n",
    "mol"
   ]
  },
  {
   "cell_type": "code",
   "execution_count": 6,
   "id": "armed-rehabilitation",
   "metadata": {},
   "outputs": [
    {
     "data": {
      "text/plain": [
       "array([[-0.66286952,  0.0885648 ,  0.04110271],\n",
       "       [ 0.80917264, -0.08806853, -0.09979142],\n",
       "       [ 1.3371439 ,  0.30860334, -1.28974239],\n",
       "       [ 2.6678134 ,  0.17659854, -1.48561375],\n",
       "       [ 3.53541999, -0.34087771, -0.54478203],\n",
       "       [ 3.00382808, -0.74665693,  0.66912985],\n",
       "       [ 1.63190517, -0.62045443,  0.89557918],\n",
       "       [-1.42385976,  0.63524584, -1.01402574],\n",
       "       [-2.80820016,  0.81608405, -0.91801991],\n",
       "       [-3.47693399,  0.4530047 ,  0.24409644],\n",
       "       [-2.76082123, -0.08895966,  1.30515335],\n",
       "       [-1.37447904, -0.26790374,  1.20368881],\n",
       "       [ 3.02619137,  0.5110376 , -2.45479365],\n",
       "       [ 4.59566754, -0.42522281, -0.75245511],\n",
       "       [ 3.64840068, -1.16001146,  1.43970842],\n",
       "       [ 1.23822749, -0.94383399,  1.85121766],\n",
       "       [-0.93145622,  0.93093767, -1.93990979],\n",
       "       [-3.35591906,  1.24085999, -1.7549896 ],\n",
       "       [-4.55158192,  0.59190078,  0.32232128],\n",
       "       [-3.27781835, -0.37532433,  2.21755914],\n",
       "       [-0.86983102, -0.69552373,  2.06456655]])"
      ]
     },
     "execution_count": 6,
     "metadata": {},
     "output_type": "execute_result"
    }
   ],
   "source": [
    "mol.xyz.geometry"
   ]
  },
  {
   "cell_type": "code",
   "execution_count": 7,
   "id": "located-start",
   "metadata": {},
   "outputs": [
    {
     "data": {
      "image/png": "[encoded data removed]",
      "text/plain": [
       "<PIL.PngImagePlugin.PngImageFile image mode=RGB size=300x300 at 0x1512E09E8>"
      ]
     },
     "execution_count": 7,
     "metadata": {},
     "output_type": "execute_result"
    }
   ],
   "source": [
    "mol.visualize()"
   ]
  },
  {
   "cell_type": "code",
   "execution_count": 8,
   "id": "infrared-stage",
   "metadata": {},
   "outputs": [
    {
     "data": {
      "text/plain": [
       "<chemml.chem.Molecule(\n",
       "        rdkit_molecule : <rdkit.Chem.rdchem.Mol object at 0x1512eb350>,\n",
       "        pybel_molecule : None,\n",
       "        creator        : ('SMILES', 'c1cc[c]2c(c1)-c1sc3ccccc3n1->[Ir+3]213(<-n2ccccc2-c2ccccn->12)<-n1c(sc2ccccc21)-c1cccc[c]13'),\n",
       "        smiles         : 'c1ccc2c(c1)-c1sc3ccccc3n1->[Ir+3]213(<-n2ccccc2-c2ccccn->12)<-n1c(sc2ccccc21)-c1ccccc13',\n",
       "        smarts         : None,\n",
       "        inchi          : None,\n",
       "        xyz            : None)>"
      ]
     },
     "execution_count": 8,
     "metadata": {},
     "output_type": "execute_result"
    }
   ],
   "source": [
    "Ir_smiles = 'c1cc[c]2c(c1)-c1sc3ccccc3n1->[Ir+3]213(<-n2ccccc2-c2ccccn->12)<-n1c(sc2ccccc21)-c1cccc[c]13'\n",
    "mol = Molecule(Ir_smiles, input_type='smiles')\n",
    "mol"
   ]
  },
  {
   "cell_type": "code",
   "execution_count": 9,
   "id": "purple-leisure",
   "metadata": {
    "scrolled": true
   },
   "outputs": [
    {
     "name": "stderr",
     "output_type": "stream",
     "text": [
      "RDKit ERROR: [08:00:19] UFFTYPER: Unrecognized atom type: Ir6 (15)\n"
     ]
    },
    {
     "ename": "ValueError",
     "evalue": "The MMFF parameters are not available for all of the molecule's atoms.",
     "output_type": "error",
     "traceback": [
      "\u001b[0;31m---------------------------------------------------------------------------\u001b[0m",
      "\u001b[0;31mValueError\u001b[0m                                Traceback (most recent call last)",
      "\u001b[0;32m<ipython-input-9-ed97c5d9b61c>\u001b[0m in \u001b[0;36m<module>\u001b[0;34m\u001b[0m\n\u001b[1;32m      1\u001b[0m \u001b[0mmol\u001b[0m\u001b[0;34m.\u001b[0m\u001b[0mhydrogens\u001b[0m\u001b[0;34m(\u001b[0m\u001b[0;34m'add'\u001b[0m\u001b[0;34m)\u001b[0m\u001b[0;34m\u001b[0m\u001b[0;34m\u001b[0m\u001b[0m\n\u001b[0;32m----> 2\u001b[0;31m \u001b[0mmol\u001b[0m\u001b[0;34m.\u001b[0m\u001b[0mto_xyz\u001b[0m\u001b[0;34m(\u001b[0m\u001b[0moptimizer\u001b[0m\u001b[0;34m=\u001b[0m\u001b[0;34m'MMFF'\u001b[0m\u001b[0;34m,\u001b[0m \u001b[0mmmffVariant\u001b[0m\u001b[0;34m=\u001b[0m\u001b[0;34m'MMFF94s'\u001b[0m\u001b[0;34m,\u001b[0m \u001b[0mmaxIters\u001b[0m\u001b[0;34m=\u001b[0m\u001b[0;36m300\u001b[0m\u001b[0;34m)\u001b[0m \u001b[0;31m# 'UFF'\u001b[0m\u001b[0;34m\u001b[0m\u001b[0;34m\u001b[0m\u001b[0m\n\u001b[0m",
      "\u001b[0;32m/opt/anaconda3/envs/my_chemml_env/lib/python3.6/site-packages/chemml/chem/molecule.py\u001b[0m in \u001b[0;36mto_xyz\u001b[0;34m(self, optimizer, **kwargs)\u001b[0m\n\u001b[1;32m    687\u001b[0m                 \u001b[0mself\u001b[0m\u001b[0;34m.\u001b[0m\u001b[0m_to_xyz_rdkit\u001b[0m\u001b[0;34m(\u001b[0m\u001b[0moptimizer\u001b[0m\u001b[0;34m,\u001b[0m \u001b[0;34m**\u001b[0m\u001b[0mkwargs\u001b[0m\u001b[0;34m)\u001b[0m\u001b[0;34m\u001b[0m\u001b[0;34m\u001b[0m\u001b[0m\n\u001b[1;32m    688\u001b[0m         \u001b[0;32melif\u001b[0m \u001b[0mengine\u001b[0m \u001b[0;34m==\u001b[0m \u001b[0;34m'rdkit'\u001b[0m\u001b[0;34m:\u001b[0m\u001b[0;34m\u001b[0m\u001b[0;34m\u001b[0m\u001b[0m\n\u001b[0;32m--> 689\u001b[0;31m             \u001b[0mself\u001b[0m\u001b[0;34m.\u001b[0m\u001b[0m_to_xyz_rdkit\u001b[0m\u001b[0;34m(\u001b[0m\u001b[0moptimizer\u001b[0m\u001b[0;34m,\u001b[0m \u001b[0;34m**\u001b[0m\u001b[0mkwargs\u001b[0m\u001b[0;34m)\u001b[0m\u001b[0;34m\u001b[0m\u001b[0;34m\u001b[0m\u001b[0m\n\u001b[0m\u001b[1;32m    690\u001b[0m \u001b[0;34m\u001b[0m\u001b[0m\n\u001b[1;32m    691\u001b[0m     \u001b[0;32mdef\u001b[0m \u001b[0m_to_xyz_rdkit\u001b[0m\u001b[0;34m(\u001b[0m\u001b[0mself\u001b[0m\u001b[0;34m,\u001b[0m \u001b[0moptimizer\u001b[0m\u001b[0;34m,\u001b[0m \u001b[0;34m**\u001b[0m\u001b[0mkwargs\u001b[0m\u001b[0;34m)\u001b[0m\u001b[0;34m:\u001b[0m\u001b[0;34m\u001b[0m\u001b[0;34m\u001b[0m\u001b[0m\n",
      "\u001b[0;32m/opt/anaconda3/envs/my_chemml_env/lib/python3.6/site-packages/chemml/chem/molecule.py\u001b[0m in \u001b[0;36m_to_xyz_rdkit\u001b[0;34m(self, optimizer, **kwargs)\u001b[0m\n\u001b[1;32m    704\u001b[0m                 \u001b[0;32melse\u001b[0m\u001b[0;34m:\u001b[0m\u001b[0;34m\u001b[0m\u001b[0;34m\u001b[0m\u001b[0m\n\u001b[1;32m    705\u001b[0m                     \u001b[0mmsg\u001b[0m \u001b[0;34m=\u001b[0m \u001b[0;34m\"The MMFF parameters are not available for all of the molecule's atoms.\"\u001b[0m\u001b[0;34m\u001b[0m\u001b[0;34m\u001b[0m\u001b[0m\n\u001b[0;32m--> 706\u001b[0;31m                     \u001b[0;32mraise\u001b[0m \u001b[0mValueError\u001b[0m\u001b[0;34m(\u001b[0m\u001b[0mmsg\u001b[0m\u001b[0;34m)\u001b[0m\u001b[0;34m\u001b[0m\u001b[0;34m\u001b[0m\u001b[0m\n\u001b[0m\u001b[1;32m    707\u001b[0m             \u001b[0;32melif\u001b[0m \u001b[0moptimizer\u001b[0m \u001b[0;34m==\u001b[0m \u001b[0;34m'UFF'\u001b[0m\u001b[0;34m:\u001b[0m\u001b[0;34m\u001b[0m\u001b[0;34m\u001b[0m\u001b[0m\n\u001b[1;32m    708\u001b[0m                 \u001b[0;32mif\u001b[0m \u001b[0mAllChem\u001b[0m\u001b[0;34m.\u001b[0m\u001b[0mUFFHasAllMoleculeParams\u001b[0m\u001b[0;34m(\u001b[0m\u001b[0mself\u001b[0m\u001b[0;34m.\u001b[0m\u001b[0mrdkit_molecule\u001b[0m\u001b[0;34m)\u001b[0m\u001b[0;34m:\u001b[0m\u001b[0;34m\u001b[0m\u001b[0;34m\u001b[0m\u001b[0m\n",
      "\u001b[0;31mValueError\u001b[0m: The MMFF parameters are not available for all of the molecule's atoms."
     ]
    }
   ],
   "source": [
    "mol.hydrogens('add')\n",
    "mol.to_xyz(optimizer='MMFF', mmffVariant='MMFF94s', maxIters=300) # 'UFF'"
   ]
  },
  {
   "cell_type": "code",
   "execution_count": 10,
   "id": "fallen-couple",
   "metadata": {},
   "outputs": [],
   "source": [
    "mol.to_xyz()"
   ]
  },
  {
   "cell_type": "code",
   "execution_count": 11,
   "id": "actual-option",
   "metadata": {},
   "outputs": [
    {
     "data": {
      "image/png": "[encoded data removed]",
      "text/plain": [
       "<PIL.PngImagePlugin.PngImageFile image mode=RGB size=300x300 at 0x1512E0E10>"
      ]
     },
     "execution_count": 11,
     "metadata": {},
     "output_type": "execute_result"
    }
   ],
   "source": [
    "mol.visualize()"
   ]
  },
  {
   "cell_type": "code",
   "execution_count": 97,
   "id": "another-market",
   "metadata": {},
   "outputs": [
    {
     "data": {
      "text/plain": [
       "<chemml.chem.Molecule(\n",
       "        rdkit_molecule : <rdkit.Chem.rdchem.Mol object at 0x153f07710>,\n",
       "        pybel_molecule : None,\n",
       "        creator        : ('SMILES', 'Cc1ccc2n(->[Ir]34(<-n5cc(C)ccc5-c5cccc[c]53)(<-n3ccccc3-c3ccccn->43)[c]3ccccc3-2)c1'),\n",
       "        smiles         : 'Cc1ccc2n(->[Ir]34(<-n5cc(C)ccc5-c5ccccc53)(<-n3ccccc3-c3ccccn->43)c3ccccc3-2)c1',\n",
       "        smarts         : None,\n",
       "        inchi          : None,\n",
       "        xyz            : <XYZ(geometry: (67, 3), atomic_numbers: (67, 1), atomic_symbols: (67, 1))>)>"
      ]
     },
     "execution_count": 97,
     "metadata": {},
     "output_type": "execute_result"
    }
   ],
   "source": [
    "mol"
   ]
  },
  {
   "cell_type": "code",
   "execution_count": 109,
   "id": "industrial-radio",
   "metadata": {},
   "outputs": [
    {
     "data": {
      "text/plain": [
       "'C'"
      ]
     },
     "execution_count": 109,
     "metadata": {},
     "output_type": "execute_result"
    }
   ],
   "source": [
    "mol.xyz.atomic_symbols[1][0]"
   ]
  },
  {
   "cell_type": "code",
   "execution_count": 111,
   "id": "committed-hamburg",
   "metadata": {},
   "outputs": [
    {
     "data": {
      "text/plain": [
       "1.7516308913152276"
      ]
     },
     "execution_count": 111,
     "metadata": {},
     "output_type": "execute_result"
    }
   ],
   "source": [
    "mol.xyz.geometry[1][0]"
   ]
  },
  {
   "cell_type": "code",
   "execution_count": 118,
   "id": "eligible-certification",
   "metadata": {},
   "outputs": [],
   "source": [
    "os.chdir('complex_xyz')"
   ]
  },
  {
   "cell_type": "code",
   "execution_count": 119,
   "id": "discrete-baltimore",
   "metadata": {},
   "outputs": [],
   "source": [
    "tot_num = len(mol.xyz.atomic_symbols)\n",
    "with open('test_IrCNNN.xyz','w') as f:\n",
    "    f.write('{}\\n'.format(tot_num))\n",
    "    f.write('IrCNNN\\n')\n",
    "    for i in range(tot_num):\n",
    "        f.write('{}  {} {} {}\\n'.format(mol.xyz.atomic_symbols[i][0], mol.xyz.geometry[i][0], mol.xyz.geometry[i][1], mol.xyz.geometry[i][2]))\n"
   ]
  },
  {
   "cell_type": "code",
   "execution_count": 7,
   "id": "passing-shannon",
   "metadata": {},
   "outputs": [],
   "source": [
    "from pybel import *"
   ]
  },
  {
   "cell_type": "code",
   "execution_count": 8,
   "id": "mathematical-necklace",
   "metadata": {},
   "outputs": [
    {
     "ename": "ImportError",
     "evalue": "cannot import name 'openbabel'",
     "output_type": "error",
     "traceback": [
      "\u001b[0;31m---------------------------------------------------------------------------\u001b[0m",
      "\u001b[0;31mImportError\u001b[0m                               Traceback (most recent call last)",
      "\u001b[0;32m<ipython-input-8-ea54a5e2c531>\u001b[0m in \u001b[0;36m<module>\u001b[0;34m\u001b[0m\n\u001b[0;32m----> 1\u001b[0;31m \u001b[0;32mfrom\u001b[0m \u001b[0mopenbabel\u001b[0m \u001b[0;32mimport\u001b[0m \u001b[0mopenbabel\u001b[0m\u001b[0;34m\u001b[0m\u001b[0;34m\u001b[0m\u001b[0m\n\u001b[0m",
      "\u001b[0;31mImportError\u001b[0m: cannot import name 'openbabel'"
     ]
    }
   ],
   "source": [
    "from openbabel import openbabel"
   ]
  },
  {
   "cell_type": "code",
   "execution_count": 44,
   "id": "moving-evolution",
   "metadata": {},
   "outputs": [
    {
     "name": "stdout",
     "output_type": "stream",
     "text": [
      "Should print 5 (atoms)\n",
      "5\n",
      "Should print 9 (atoms) after adding hydrogens\n",
      "9\n"
     ]
    },
    {
     "data": {
      "text/plain": [
       "True"
      ]
     },
     "execution_count": 44,
     "metadata": {},
     "output_type": "execute_result"
    }
   ],
   "source": [
    "obConversion = openbabel.OBConversion()\n",
    "obConversion.SetInAndOutFormats(\"smi\", \"xyz\")\n",
    "\n",
    "mol = openbabel.OBMol()\n",
    "obConversion.ReadString(mol, \"C1=CC=CS1\")\n",
    "\n",
    "print('Should print 5 (atoms)')\n",
    "print(mol.NumAtoms())\n",
    "\n",
    "mol.AddHydrogens()\n",
    "print('Should print 9 (atoms) after adding hydrogens')\n",
    "print(mol.NumAtoms())\n",
    "\n",
    "obConversion.WriteFile(mol,'test.xyz')"
   ]
  },
  {
   "cell_type": "code",
   "execution_count": 2,
   "id": "gorgeous-constraint",
   "metadata": {},
   "outputs": [
    {
     "ename": "ImportError",
     "evalue": "cannot import name 'pybel'",
     "output_type": "error",
     "traceback": [
      "\u001b[0;31m---------------------------------------------------------------------------\u001b[0m",
      "\u001b[0;31mImportError\u001b[0m                               Traceback (most recent call last)",
      "\u001b[0;32m<ipython-input-2-f038e303b47c>\u001b[0m in \u001b[0;36m<module>\u001b[0;34m\u001b[0m\n\u001b[0;32m----> 1\u001b[0;31m \u001b[0;32mfrom\u001b[0m \u001b[0mopenbabel\u001b[0m \u001b[0;32mimport\u001b[0m \u001b[0mpybel\u001b[0m\u001b[0;34m\u001b[0m\u001b[0;34m\u001b[0m\u001b[0m\n\u001b[0m",
      "\u001b[0;31mImportError\u001b[0m: cannot import name 'pybel'"
     ]
    }
   ],
   "source": [
    "from openbabel import pybel"
   ]
  },
  {
   "cell_type": "code",
   "execution_count": 56,
   "id": "scenic-travel",
   "metadata": {},
   "outputs": [],
   "source": [
    "mol = pybel.readstring(\"smi\", 'c1cc[c]2c(c1)-c1ccccn1[Ir]213([c]2ccccc2-c2ccccn21)n1ccccc1-c1ccccn13')"
   ]
  },
  {
   "cell_type": "code",
   "execution_count": 57,
   "id": "developmental-tsunami",
   "metadata": {},
   "outputs": [],
   "source": [
    "mol.addh()"
   ]
  },
  {
   "cell_type": "code",
   "execution_count": 58,
   "id": "enclosed-bulgarian",
   "metadata": {},
   "outputs": [],
   "source": [
    "mol.make3D()"
   ]
  },
  {
   "cell_type": "code",
   "execution_count": 59,
   "id": "surprising-geology",
   "metadata": {},
   "outputs": [],
   "source": [
    "mol.write(\"xyz\",\"test_Ir2.xyz\")"
   ]
  },
  {
   "cell_type": "code",
   "execution_count": 55,
   "id": "instrumental-french",
   "metadata": {},
   "outputs": [
    {
     "name": "stdout",
     "output_type": "stream",
     "text": [
      "Help on Molecule in module openbabel.pybel object:\n",
      "\n",
      "class Molecule(builtins.object)\n",
      " |  Represent a Pybel Molecule.\n",
      " |  \n",
      " |  Required parameter:\n",
      " |     OBMol -- an Open Babel OBMol or any type of cinfony Molecule\n",
      " |  \n",
      " |  Attributes:\n",
      " |     atoms, charge, conformers, data, dim, energy, exactmass, formula,\n",
      " |     molwt, spin, sssr, title, unitcell.\n",
      " |  (refer to the Open Babel library documentation for more info).\n",
      " |  \n",
      " |  Methods:\n",
      " |     addh(), calcfp(), calcdesc(), draw(), localopt(), make2D(), make3D()\n",
      " |     calccharges(), removeh(), write()\n",
      " |  \n",
      " |  The underlying Open Babel molecule can be accessed using the attribute:\n",
      " |     OBMol\n",
      " |  \n",
      " |  Methods defined here:\n",
      " |  \n",
      " |  __init__(self, OBMol)\n",
      " |      Initialize self.  See help(type(self)) for accurate signature.\n",
      " |  \n",
      " |  __iter__(self)\n",
      " |      Iterate over the Atoms of the Molecule.\n",
      " |      \n",
      " |      This allows constructions such as the following:\n",
      " |         for atom in mymol:\n",
      " |             print atom\n",
      " |  \n",
      " |  __str__(self)\n",
      " |      Return str(self).\n",
      " |  \n",
      " |  addh(self)\n",
      " |      Add hydrogens.\n",
      " |  \n",
      " |  calccharges(self, model='mmff94')\n",
      " |      Estimates atomic partial charges in the molecule.\n",
      " |      \n",
      " |      Optional parameters:\n",
      " |         model -- default is \"mmff94\". See the charges variable for a list\n",
      " |                  of available charge models (in shell, `obabel -L charges`)\n",
      " |      \n",
      " |      This method populates the `partialcharge` attribute of each atom\n",
      " |      in the molecule in place.\n",
      " |  \n",
      " |  calcdesc(self, descnames=[])\n",
      " |      Calculate descriptor values.\n",
      " |      \n",
      " |      Optional parameter:\n",
      " |         descnames -- a list of names of descriptors\n",
      " |      \n",
      " |      If descnames is not specified, all available descriptors are\n",
      " |      calculated. See the descs variable for a list of available\n",
      " |      descriptors.\n",
      " |  \n",
      " |  calcfp(self, fptype='FP2')\n",
      " |      Calculate a molecular fingerprint.\n",
      " |      \n",
      " |      Optional parameters:\n",
      " |         fptype -- the fingerprint type (default is \"FP2\"). See the\n",
      " |                   fps variable for a list of of available fingerprint\n",
      " |                   types.\n",
      " |  \n",
      " |  convertdbonds(self)\n",
      " |      Convert Dative Bonds.\n",
      " |  \n",
      " |  draw(self, show=True, filename=None, update=False, usecoords=False)\n",
      " |      Create a 2D depiction of the molecule.\n",
      " |      \n",
      " |      Optional parameters:\n",
      " |        show -- display on screen (default is True)\n",
      " |        filename -- write to file (default is None)\n",
      " |        update -- update the coordinates of the atoms to those\n",
      " |                  determined by the structure diagram generator\n",
      " |                  (default is False)\n",
      " |        usecoords -- don't calculate 2D coordinates, just use\n",
      " |                     the current coordinates (default is False)\n",
      " |      \n",
      " |      Tkinter and Python Imaging Library are required for image display.\n",
      " |  \n",
      " |  localopt(self, forcefield='mmff94', steps=500)\n",
      " |      Locally optimize the coordinates.\n",
      " |      \n",
      " |      Optional parameters:\n",
      " |         forcefield -- default is \"mmff94\". See the forcefields variable\n",
      " |                       for a list of available forcefields.\n",
      " |         steps -- default is 500\n",
      " |      \n",
      " |      If the molecule does not have any coordinates, make3D() is\n",
      " |      called before the optimization. Note that the molecule needs\n",
      " |      to have explicit hydrogens. If not, call addh().\n",
      " |  \n",
      " |  make2D(self)\n",
      " |      Generate 2D coordinates.\n",
      " |  \n",
      " |  make3D(self, forcefield='mmff94', steps=50)\n",
      " |      Generate 3D coordinates.\n",
      " |      \n",
      " |      Optional parameters:\n",
      " |         forcefield -- default is \"mmff94\". See the forcefields variable\n",
      " |                       for a list of available forcefields.\n",
      " |         steps -- default is 50\n",
      " |      \n",
      " |      Once coordinates are generated, hydrogens are added and a quick\n",
      " |      local optimization is carried out with 50 steps and the\n",
      " |      MMFF94 forcefield. Call localopt() if you want\n",
      " |      to improve the coordinates further.\n",
      " |  \n",
      " |  removeh(self)\n",
      " |      Remove hydrogens.\n",
      " |  \n",
      " |  write(self, format='smi', filename=None, overwrite=False, opt=None)\n",
      " |      Write the molecule to a file or return a string.\n",
      " |      \n",
      " |      Optional parameters:\n",
      " |         format -- see the informats variable for a list of available\n",
      " |                   output formats (default is \"smi\")\n",
      " |         filename -- default is None\n",
      " |         overwite -- if the output file already exists, should it\n",
      " |                     be overwritten? (default is False)\n",
      " |         opt -- a dictionary of format specific options\n",
      " |                For format options with no parameters, specify the\n",
      " |                value as None.\n",
      " |      \n",
      " |      If a filename is specified, the result is written to a file.\n",
      " |      Otherwise, a string is returned containing the result.\n",
      " |      \n",
      " |      To write multiple molecules to the same file you should use\n",
      " |      the Outputfile class.\n",
      " |  \n",
      " |  ----------------------------------------------------------------------\n",
      " |  Data descriptors defined here:\n",
      " |  \n",
      " |  __dict__\n",
      " |      dictionary for instance variables (if defined)\n",
      " |  \n",
      " |  __weakref__\n",
      " |      list of weak references to the object (if defined)\n",
      " |  \n",
      " |  atoms\n",
      " |  \n",
      " |  charge\n",
      " |  \n",
      " |  clone\n",
      " |  \n",
      " |  conformers\n",
      " |  \n",
      " |  data\n",
      " |  \n",
      " |  dim\n",
      " |  \n",
      " |  energy\n",
      " |  \n",
      " |  exactmass\n",
      " |  \n",
      " |  formula\n",
      " |  \n",
      " |  molwt\n",
      " |  \n",
      " |  residues\n",
      " |  \n",
      " |  spin\n",
      " |  \n",
      " |  sssr\n",
      " |  \n",
      " |  title\n",
      " |  \n",
      " |  unitcell\n",
      "\n"
     ]
    }
   ],
   "source": [
    "help(mol)"
   ]
  },
  {
   "cell_type": "markdown",
   "id": "geographic-chain",
   "metadata": {},
   "source": [
    "## convert smiles to xyz"
   ]
  },
  {
   "cell_type": "code",
   "execution_count": 146,
   "id": "saved-selection",
   "metadata": {},
   "outputs": [],
   "source": [
    "def smiles2xyz(Ir_smiles, xyz_name):\n",
    "    mol = Molecule(Ir_smiles, input_type='smiles')\n",
    "    mol.hydrogens('add')\n",
    "    while True:\n",
    "        try:\n",
    "            mol.to_xyz(optimizer='MMFF', mmffVariant='MMFF94s', maxIters=300) # 'UFF'\n",
    "        except:\n",
    "            print(\"{} MMFF Error\".format(xyz_name))\n",
    "        try:    \n",
    "            mol.to_xyz()\n",
    "            break\n",
    "        except:\n",
    "            print(\"{} to_xyz Error\".format(xyz_name))\n",
    "        \n",
    "    tot_num = len(mol.xyz.atomic_symbols)\n",
    "    with open(xyz_name,'w') as f:\n",
    "        f.write('{}\\n'.format(tot_num))\n",
    "        f.write('IrCNNN\\n')\n",
    "        for i in range(tot_num):\n",
    "            f.write('{}  {} {} {}\\n'.format(mol.xyz.atomic_symbols[i][0], mol.xyz.geometry[i][0], mol.xyz.geometry[i][1], mol.xyz.geometry[i][2]))\n",
    "            \n",
    "    return 1\n"
   ]
  },
  {
   "cell_type": "code",
   "execution_count": 116,
   "id": "emotional-afghanistan",
   "metadata": {},
   "outputs": [
    {
     "data": {
      "text/html": [
       "<div>\n",
       "<style scoped>\n",
       "    .dataframe tbody tr th:only-of-type {\n",
       "        vertical-align: middle;\n",
       "    }\n",
       "\n",
       "    .dataframe tbody tr th {\n",
       "        vertical-align: top;\n",
       "    }\n",
       "\n",
       "    .dataframe thead th {\n",
       "        text-align: right;\n",
       "    }\n",
       "</style>\n",
       "<table border=\"1\" class=\"dataframe\">\n",
       "  <thead>\n",
       "    <tr style=\"text-align: right;\">\n",
       "      <th></th>\n",
       "      <th>Unnamed: 0</th>\n",
       "      <th>C^N</th>\n",
       "      <th>N^N</th>\n",
       "      <th>max_lambda</th>\n",
       "      <th>CN_smiles</th>\n",
       "      <th>NN_smiles</th>\n",
       "      <th>complex_smiles</th>\n",
       "    </tr>\n",
       "  </thead>\n",
       "  <tbody>\n",
       "    <tr>\n",
       "      <th>0</th>\n",
       "      <td>0</td>\n",
       "      <td>1</td>\n",
       "      <td>1</td>\n",
       "      <td>587.0</td>\n",
       "      <td>C1(C2=[15N]C=CC=C2)=CC=CC=[13C]1</td>\n",
       "      <td>C1(C2=[15N]C=CC=C2)=CC=CC=[15N]1</td>\n",
       "      <td>c1cc[c]2c(c1)-c1ccccn1-&gt;[Ir+3]213(&lt;-n2ccccc2-c...</td>\n",
       "    </tr>\n",
       "    <tr>\n",
       "      <th>1</th>\n",
       "      <td>1</td>\n",
       "      <td>2</td>\n",
       "      <td>1</td>\n",
       "      <td>593.5</td>\n",
       "      <td>CC(C=C1)=C[15N]=C1C2=CC=CC=[13C]2</td>\n",
       "      <td>C1(C2=[15N]C=CC=C2)=CC=CC=[15N]1</td>\n",
       "      <td>Cc1ccc2n(-&gt;[Ir+3]34(&lt;-n5cc(C)ccc5-c5cccc[c]53)...</td>\n",
       "    </tr>\n",
       "    <tr>\n",
       "      <th>2</th>\n",
       "      <td>2</td>\n",
       "      <td>3</td>\n",
       "      <td>1</td>\n",
       "      <td>562.5</td>\n",
       "      <td>CC(C=C1)=C[15N]=C1C2=CC=C(F)C=[13C]2</td>\n",
       "      <td>C1(C2=[15N]C=CC=C2)=CC=CC=[15N]1</td>\n",
       "      <td>Cc1ccc2n(-&gt;[Ir+3]34(&lt;-n5cc(C)ccc5-c5ccc(F)c[c]...</td>\n",
       "    </tr>\n",
       "    <tr>\n",
       "      <th>3</th>\n",
       "      <td>3</td>\n",
       "      <td>4</td>\n",
       "      <td>1</td>\n",
       "      <td>558.5</td>\n",
       "      <td>CC(C=C1)=C[15N]=C1C2=CC=C(Cl)C=[13C]2</td>\n",
       "      <td>C1(C2=[15N]C=CC=C2)=CC=CC=[15N]1</td>\n",
       "      <td>Cc1ccc2n(-&gt;[Ir+3]34(&lt;-n5cc(C)ccc5-c5ccc(Cl)c[c...</td>\n",
       "    </tr>\n",
       "    <tr>\n",
       "      <th>4</th>\n",
       "      <td>4</td>\n",
       "      <td>5</td>\n",
       "      <td>1</td>\n",
       "      <td>559.5</td>\n",
       "      <td>CC(C=C1)=C[15N]=C1C2=CC=C(Br)C=[13C]2</td>\n",
       "      <td>C1(C2=[15N]C=CC=C2)=CC=CC=[15N]1</td>\n",
       "      <td>Cc1ccc2n(-&gt;[Ir+3]34(&lt;-n5cc(C)ccc5-c5ccc(Br)c[c...</td>\n",
       "    </tr>\n",
       "    <tr>\n",
       "      <th>...</th>\n",
       "      <td>...</td>\n",
       "      <td>...</td>\n",
       "      <td>...</td>\n",
       "      <td>...</td>\n",
       "      <td>...</td>\n",
       "      <td>...</td>\n",
       "      <td>...</td>\n",
       "    </tr>\n",
       "    <tr>\n",
       "      <th>1435</th>\n",
       "      <td>1435</td>\n",
       "      <td>105</td>\n",
       "      <td>47</td>\n",
       "      <td>505.0</td>\n",
       "      <td>CN1N=[15N]C(C2=CC=C(C(F)(F)F)C=[13C]2)=C1</td>\n",
       "      <td>OC(C)(C)C1=CC=C(C2=[15N]C=C(C(O)(C)C)C=C2)[15N...</td>\n",
       "      <td>Cn1cc2n(-&gt;[Ir+3]34(&lt;-n5cc(C(C)(C)O)ccc5-c5ccc(...</td>\n",
       "    </tr>\n",
       "    <tr>\n",
       "      <th>1436</th>\n",
       "      <td>1436</td>\n",
       "      <td>106</td>\n",
       "      <td>47</td>\n",
       "      <td>523.0</td>\n",
       "      <td>FC1=CC=C(C2=CN(C)N=[15N]2)[13C]=C1</td>\n",
       "      <td>OC(C)(C)C1=CC=C(C2=[15N]C=C(C(O)(C)C)C=C2)[15N...</td>\n",
       "      <td>Cn1cc2n(-&gt;[Ir+3]34(&lt;-n5cc(C(C)(C)O)ccc5-c5ccc(...</td>\n",
       "    </tr>\n",
       "    <tr>\n",
       "      <th>1437</th>\n",
       "      <td>1437</td>\n",
       "      <td>107</td>\n",
       "      <td>47</td>\n",
       "      <td>552.5</td>\n",
       "      <td>CN1N=[15N]C(C2=CC=CC=[13C]2)=C1</td>\n",
       "      <td>OC(C)(C)C1=CC=C(C2=[15N]C=C(C(O)(C)C)C=C2)[15N...</td>\n",
       "      <td>Cn1cc2n(-&gt;[Ir+3]34(&lt;-n5cc(C(C)(C)O)ccc5-c5ccc(...</td>\n",
       "    </tr>\n",
       "    <tr>\n",
       "      <th>1438</th>\n",
       "      <td>1438</td>\n",
       "      <td>108</td>\n",
       "      <td>47</td>\n",
       "      <td>562.5</td>\n",
       "      <td>COC1=CC=C(N2C=CC=[15N]2)[13C]=C1</td>\n",
       "      <td>OC(C)(C)C1=CC=C(C2=[15N]C=C(C(O)(C)C)C=C2)[15N...</td>\n",
       "      <td>COc1ccc2[c](c1)[Ir+3]13(&lt;-n4cc(C(C)(C)O)ccc4-c...</td>\n",
       "    </tr>\n",
       "    <tr>\n",
       "      <th>1439</th>\n",
       "      <td>1439</td>\n",
       "      <td>109</td>\n",
       "      <td>47</td>\n",
       "      <td>563.5</td>\n",
       "      <td>CN1N=[15N]C(C2=CC=C(C(C)(C)C)C=[13C]2)=C1</td>\n",
       "      <td>OC(C)(C)C1=CC=C(C2=[15N]C=C(C(O)(C)C)C=C2)[15N...</td>\n",
       "      <td>Cn1cc2n(-&gt;[Ir+3]34(&lt;-n5cc(C(C)(C)O)ccc5-c5ccc(...</td>\n",
       "    </tr>\n",
       "  </tbody>\n",
       "</table>\n",
       "<p>1440 rows × 7 columns</p>\n",
       "</div>"
      ],
      "text/plain": [
       "      Unnamed: 0  C^N  N^N  max_lambda  \\\n",
       "0              0    1    1       587.0   \n",
       "1              1    2    1       593.5   \n",
       "2              2    3    1       562.5   \n",
       "3              3    4    1       558.5   \n",
       "4              4    5    1       559.5   \n",
       "...          ...  ...  ...         ...   \n",
       "1435        1435  105   47       505.0   \n",
       "1436        1436  106   47       523.0   \n",
       "1437        1437  107   47       552.5   \n",
       "1438        1438  108   47       562.5   \n",
       "1439        1439  109   47       563.5   \n",
       "\n",
       "                                      CN_smiles  \\\n",
       "0              C1(C2=[15N]C=CC=C2)=CC=CC=[13C]1   \n",
       "1             CC(C=C1)=C[15N]=C1C2=CC=CC=[13C]2   \n",
       "2          CC(C=C1)=C[15N]=C1C2=CC=C(F)C=[13C]2   \n",
       "3         CC(C=C1)=C[15N]=C1C2=CC=C(Cl)C=[13C]2   \n",
       "4         CC(C=C1)=C[15N]=C1C2=CC=C(Br)C=[13C]2   \n",
       "...                                         ...   \n",
       "1435  CN1N=[15N]C(C2=CC=C(C(F)(F)F)C=[13C]2)=C1   \n",
       "1436         FC1=CC=C(C2=CN(C)N=[15N]2)[13C]=C1   \n",
       "1437            CN1N=[15N]C(C2=CC=CC=[13C]2)=C1   \n",
       "1438           COC1=CC=C(N2C=CC=[15N]2)[13C]=C1   \n",
       "1439  CN1N=[15N]C(C2=CC=C(C(C)(C)C)C=[13C]2)=C1   \n",
       "\n",
       "                                              NN_smiles  \\\n",
       "0                      C1(C2=[15N]C=CC=C2)=CC=CC=[15N]1   \n",
       "1                      C1(C2=[15N]C=CC=C2)=CC=CC=[15N]1   \n",
       "2                      C1(C2=[15N]C=CC=C2)=CC=CC=[15N]1   \n",
       "3                      C1(C2=[15N]C=CC=C2)=CC=CC=[15N]1   \n",
       "4                      C1(C2=[15N]C=CC=C2)=CC=CC=[15N]1   \n",
       "...                                                 ...   \n",
       "1435  OC(C)(C)C1=CC=C(C2=[15N]C=C(C(O)(C)C)C=C2)[15N...   \n",
       "1436  OC(C)(C)C1=CC=C(C2=[15N]C=C(C(O)(C)C)C=C2)[15N...   \n",
       "1437  OC(C)(C)C1=CC=C(C2=[15N]C=C(C(O)(C)C)C=C2)[15N...   \n",
       "1438  OC(C)(C)C1=CC=C(C2=[15N]C=C(C(O)(C)C)C=C2)[15N...   \n",
       "1439  OC(C)(C)C1=CC=C(C2=[15N]C=C(C(O)(C)C)C=C2)[15N...   \n",
       "\n",
       "                                         complex_smiles  \n",
       "0     c1cc[c]2c(c1)-c1ccccn1->[Ir+3]213(<-n2ccccc2-c...  \n",
       "1     Cc1ccc2n(->[Ir+3]34(<-n5cc(C)ccc5-c5cccc[c]53)...  \n",
       "2     Cc1ccc2n(->[Ir+3]34(<-n5cc(C)ccc5-c5ccc(F)c[c]...  \n",
       "3     Cc1ccc2n(->[Ir+3]34(<-n5cc(C)ccc5-c5ccc(Cl)c[c...  \n",
       "4     Cc1ccc2n(->[Ir+3]34(<-n5cc(C)ccc5-c5ccc(Br)c[c...  \n",
       "...                                                 ...  \n",
       "1435  Cn1cc2n(->[Ir+3]34(<-n5cc(C(C)(C)O)ccc5-c5ccc(...  \n",
       "1436  Cn1cc2n(->[Ir+3]34(<-n5cc(C(C)(C)O)ccc5-c5ccc(...  \n",
       "1437  Cn1cc2n(->[Ir+3]34(<-n5cc(C(C)(C)O)ccc5-c5ccc(...  \n",
       "1438  COc1ccc2[c](c1)[Ir+3]13(<-n4cc(C(C)(C)O)ccc4-c...  \n",
       "1439  Cn1cc2n(->[Ir+3]34(<-n5cc(C(C)(C)O)ccc5-c5ccc(...  \n",
       "\n",
       "[1440 rows x 7 columns]"
      ]
     },
     "execution_count": 116,
     "metadata": {},
     "output_type": "execute_result"
    }
   ],
   "source": [
    "import pandas as pd\n",
    "import os, sys\n",
    "\n",
    "cwd = os.getcwd()\n",
    "df = pd.read_csv(cwd+'/IrCNNN_smiles_dative.csv')\n",
    "df"
   ]
  },
  {
   "cell_type": "code",
   "execution_count": 117,
   "id": "legitimate-tomorrow",
   "metadata": {},
   "outputs": [
    {
     "data": {
      "text/plain": [
       "1440"
      ]
     },
     "execution_count": 117,
     "metadata": {},
     "output_type": "execute_result"
    }
   ],
   "source": [
    "len(df)"
   ]
  },
  {
   "cell_type": "code",
   "execution_count": 130,
   "id": "ancient-hours",
   "metadata": {},
   "outputs": [
    {
     "name": "stdout",
     "output_type": "stream",
     "text": [
      "c1cc[c]2c(c1)-c1sc3ccccc3n1->[Ir+3]213(<-n2ccccc2-c2ccccn->12)<-n1c(sc2ccccc21)-c1cccc[c]13\n"
     ]
    }
   ],
   "source": [
    "print(df['complex_smiles'][14])"
   ]
  },
  {
   "cell_type": "markdown",
   "id": "accredited-pitch",
   "metadata": {},
   "source": [
    "#### debug"
   ]
  },
  {
   "cell_type": "code",
   "execution_count": 145,
   "id": "random-metallic",
   "metadata": {},
   "outputs": [
    {
     "name": "stderr",
     "output_type": "stream",
     "text": [
      "RDKit ERROR: [18:49:52] UFFTYPER: Unrecognized atom type: Ir6 (7)\n"
     ]
    },
    {
     "name": "stdout",
     "output_type": "stream",
     "text": [
      "missing Ir - will fix later\n"
     ]
    }
   ],
   "source": [
    "i=19\n",
    "Ir_smiles = df['complex_smiles'][i]\n",
    "xyz_name = 'IrCNNN'+str(i)+'.xyz'\n",
    "status = smiles2xyz(Ir_smiles, xyz_name)"
   ]
  },
  {
   "cell_type": "markdown",
   "id": "recreational-floor",
   "metadata": {},
   "source": [
    "### 359 problematic"
   ]
  },
  {
   "cell_type": "code",
   "execution_count": null,
   "id": "agricultural-postcard",
   "metadata": {},
   "outputs": [],
   "source": [
    "for i in range(360, len(df)):\n",
    "    Ir_smiles = df['complex_smiles'][i]\n",
    "    xyz_name = 'IrCNNN'+str(i)+'.xyz'\n",
    "    status = smiles2xyz(Ir_smiles, xyz_name)\n",
    "    print(status)"
   ]
  },
  {
   "cell_type": "code",
   "execution_count": null,
   "id": "assigned-belarus",
   "metadata": {},
   "outputs": [],
   "source": []
  },
  {
   "cell_type": "code",
   "execution_count": null,
   "id": "stuck-letters",
   "metadata": {},
   "outputs": [],
   "source": []
  },
  {
   "cell_type": "code",
   "execution_count": null,
   "id": "periodic-belief",
   "metadata": {},
   "outputs": [],
   "source": []
  }
 ],
 "metadata": {
  "kernelspec": {
   "display_name": "Python [conda env:my_chemml_env] *",
   "language": "python",
   "name": "conda-env-my_chemml_env-py"
  },
  "language_info": {
   "codemirror_mode": {
    "name": "ipython",
    "version": 3
   },
   "file_extension": ".py",
   "mimetype": "text/x-python",
   "name": "python",
   "nbconvert_exporter": "python",
   "pygments_lexer": "ipython3",
   "version": "3.6.12"
  }
 },
 "nbformat": 4,
 "nbformat_minor": 5
}
